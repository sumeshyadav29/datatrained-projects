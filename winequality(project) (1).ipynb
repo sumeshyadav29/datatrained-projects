{
 "cells": [
  {
   "cell_type": "markdown",
   "id": "ca80f4cb",
   "metadata": {},
   "source": [
    "The dataset is related to red and white variants of the Portuguese \"Vinho Verde\" wine. Due to privacy and logistic issues, only physicochemical (inputs) and sensory (the output) variables are available (e.g. there is no data about grape types, wine brand, wine selling price, etc.).\n",
    "\n",
    "This dataset can be viewed as classification task. The classes are ordered and not balanced (e.g. there are many more normal wines than excellent or poor ones). Also, we are not sure if all input variables are relevant. So it could be interesting to test feature selection methods.\n",
    "\n",
    "Attribute Information\n",
    "\n",
    "Input variables (based on physicochemical tests): 1 - fixed acidity 2 - volatile acidity 3 - citric acid 4 - residual sugar 5 - chlorides 6 - free sulfur dioxide 7 - total sulfur dioxide 8 - density 9 - pH 10 - sulphates 11 - alcohol Output variable (based on sensory data): 12 - quality (score between 0 and 10)\n",
    "\n",
    "What might be an interesting thing to do, is to set an arbitrary cutoff for your dependent variable (wine quality) at e.g. 7 or higher getting classified as 'good/1' and the remainder as 'not good/0'. This allows you to practice with hyper parameter tuning on e.g. decision tree algorithms looking at the ROC curve and the AUC value.\n",
    "\n",
    "You need to build a classification model.\n",
    "\n",
    "Inspiration\n",
    "\n",
    "Use machine learning to determine which physiochemical properties make a wine 'good'!"
   ]
  },
  {
   "cell_type": "code",
   "execution_count": 1,
   "id": "c7ac3ebc",
   "metadata": {},
   "outputs": [
    {
     "name": "stdout",
     "output_type": "stream",
     "text": [
      "Defaulting to user installation because normal site-packages is not writeable\n",
      "Requirement already satisfied: imbalanced-learn in c:\\users\\sumesh\\appdata\\roaming\\python\\python39\\site-packages (0.10.0)\n",
      "Requirement already satisfied: joblib>=1.1.1 in c:\\users\\sumesh\\appdata\\roaming\\python\\python39\\site-packages (from imbalanced-learn) (1.2.0)\n",
      "Requirement already satisfied: scipy>=1.3.2 in c:\\programdata\\anaconda3\\lib\\site-packages (from imbalanced-learn) (1.9.1)\n",
      "Requirement already satisfied: threadpoolctl>=2.0.0 in c:\\programdata\\anaconda3\\lib\\site-packages (from imbalanced-learn) (2.2.0)\n",
      "Requirement already satisfied: scikit-learn>=1.0.2 in c:\\programdata\\anaconda3\\lib\\site-packages (from imbalanced-learn) (1.0.2)\n",
      "Requirement already satisfied: numpy>=1.17.3 in c:\\programdata\\anaconda3\\lib\\site-packages (from imbalanced-learn) (1.21.5)\n",
      "Note: you may need to restart the kernel to use updated packages.\n"
     ]
    }
   ],
   "source": [
    "pip install imbalanced-learn"
   ]
  },
  {
   "cell_type": "code",
   "execution_count": 2,
   "id": "40b4551e",
   "metadata": {},
   "outputs": [],
   "source": [
    "import pandas as pd\n",
    "import numpy as np\n",
    "import seaborn as sns\n",
    "import matplotlib.pyplot as plt\n",
    "import scipy\n",
    "from scipy import stats\n",
    "from scipy.stats import zscore\n",
    "import sklearn\n",
    "from sklearn.linear_model import LogisticRegression\n",
    "from sklearn.model_selection import train_test_split\n",
    "from sklearn.metrics import accuracy_score, confusion_matrix,classification_report\n",
    "from imblearn.over_sampling import SMOTE\n",
    "from sklearn.preprocessing import StandardScaler"
   ]
  },
  {
   "cell_type": "code",
   "execution_count": 3,
   "id": "f4af6d5b",
   "metadata": {},
   "outputs": [],
   "source": [
    "from sklearn.naive_bayes import GaussianNB\n",
    "from sklearn.svm import SVC\n",
    "from sklearn.tree import DecisionTreeClassifier\n",
    "from sklearn.neighbors import KNeighborsClassifier\n",
    "from sklearn.metrics import accuracy_score, confusion_matrix, classification_report\n",
    "import warnings\n",
    "warnings.filterwarnings(\"ignore\")"
   ]
  },
  {
   "cell_type": "code",
   "execution_count": 4,
   "id": "9c6fa47d",
   "metadata": {
    "scrolled": true
   },
   "outputs": [
    {
     "data": {
      "text/html": [
       "<div>\n",
       "<style scoped>\n",
       "    .dataframe tbody tr th:only-of-type {\n",
       "        vertical-align: middle;\n",
       "    }\n",
       "\n",
       "    .dataframe tbody tr th {\n",
       "        vertical-align: top;\n",
       "    }\n",
       "\n",
       "    .dataframe thead th {\n",
       "        text-align: right;\n",
       "    }\n",
       "</style>\n",
       "<table border=\"1\" class=\"dataframe\">\n",
       "  <thead>\n",
       "    <tr style=\"text-align: right;\">\n",
       "      <th></th>\n",
       "      <th>fixed acidity</th>\n",
       "      <th>volatile acidity</th>\n",
       "      <th>citric acid</th>\n",
       "      <th>residual sugar</th>\n",
       "      <th>chlorides</th>\n",
       "      <th>free sulfur dioxide</th>\n",
       "      <th>total sulfur dioxide</th>\n",
       "      <th>density</th>\n",
       "      <th>pH</th>\n",
       "      <th>sulphates</th>\n",
       "      <th>alcohol</th>\n",
       "      <th>quality</th>\n",
       "    </tr>\n",
       "  </thead>\n",
       "  <tbody>\n",
       "    <tr>\n",
       "      <th>0</th>\n",
       "      <td>7.4</td>\n",
       "      <td>0.700</td>\n",
       "      <td>0.00</td>\n",
       "      <td>1.9</td>\n",
       "      <td>0.076</td>\n",
       "      <td>11.0</td>\n",
       "      <td>34.0</td>\n",
       "      <td>0.99780</td>\n",
       "      <td>3.51</td>\n",
       "      <td>0.56</td>\n",
       "      <td>9.4</td>\n",
       "      <td>5</td>\n",
       "    </tr>\n",
       "    <tr>\n",
       "      <th>1</th>\n",
       "      <td>7.8</td>\n",
       "      <td>0.880</td>\n",
       "      <td>0.00</td>\n",
       "      <td>2.6</td>\n",
       "      <td>0.098</td>\n",
       "      <td>25.0</td>\n",
       "      <td>67.0</td>\n",
       "      <td>0.99680</td>\n",
       "      <td>3.20</td>\n",
       "      <td>0.68</td>\n",
       "      <td>9.8</td>\n",
       "      <td>5</td>\n",
       "    </tr>\n",
       "    <tr>\n",
       "      <th>2</th>\n",
       "      <td>7.8</td>\n",
       "      <td>0.760</td>\n",
       "      <td>0.04</td>\n",
       "      <td>2.3</td>\n",
       "      <td>0.092</td>\n",
       "      <td>15.0</td>\n",
       "      <td>54.0</td>\n",
       "      <td>0.99700</td>\n",
       "      <td>3.26</td>\n",
       "      <td>0.65</td>\n",
       "      <td>9.8</td>\n",
       "      <td>5</td>\n",
       "    </tr>\n",
       "    <tr>\n",
       "      <th>3</th>\n",
       "      <td>11.2</td>\n",
       "      <td>0.280</td>\n",
       "      <td>0.56</td>\n",
       "      <td>1.9</td>\n",
       "      <td>0.075</td>\n",
       "      <td>17.0</td>\n",
       "      <td>60.0</td>\n",
       "      <td>0.99800</td>\n",
       "      <td>3.16</td>\n",
       "      <td>0.58</td>\n",
       "      <td>9.8</td>\n",
       "      <td>6</td>\n",
       "    </tr>\n",
       "    <tr>\n",
       "      <th>4</th>\n",
       "      <td>7.4</td>\n",
       "      <td>0.700</td>\n",
       "      <td>0.00</td>\n",
       "      <td>1.9</td>\n",
       "      <td>0.076</td>\n",
       "      <td>11.0</td>\n",
       "      <td>34.0</td>\n",
       "      <td>0.99780</td>\n",
       "      <td>3.51</td>\n",
       "      <td>0.56</td>\n",
       "      <td>9.4</td>\n",
       "      <td>5</td>\n",
       "    </tr>\n",
       "    <tr>\n",
       "      <th>...</th>\n",
       "      <td>...</td>\n",
       "      <td>...</td>\n",
       "      <td>...</td>\n",
       "      <td>...</td>\n",
       "      <td>...</td>\n",
       "      <td>...</td>\n",
       "      <td>...</td>\n",
       "      <td>...</td>\n",
       "      <td>...</td>\n",
       "      <td>...</td>\n",
       "      <td>...</td>\n",
       "      <td>...</td>\n",
       "    </tr>\n",
       "    <tr>\n",
       "      <th>1594</th>\n",
       "      <td>6.2</td>\n",
       "      <td>0.600</td>\n",
       "      <td>0.08</td>\n",
       "      <td>2.0</td>\n",
       "      <td>0.090</td>\n",
       "      <td>32.0</td>\n",
       "      <td>44.0</td>\n",
       "      <td>0.99490</td>\n",
       "      <td>3.45</td>\n",
       "      <td>0.58</td>\n",
       "      <td>10.5</td>\n",
       "      <td>5</td>\n",
       "    </tr>\n",
       "    <tr>\n",
       "      <th>1595</th>\n",
       "      <td>5.9</td>\n",
       "      <td>0.550</td>\n",
       "      <td>0.10</td>\n",
       "      <td>2.2</td>\n",
       "      <td>0.062</td>\n",
       "      <td>39.0</td>\n",
       "      <td>51.0</td>\n",
       "      <td>0.99512</td>\n",
       "      <td>3.52</td>\n",
       "      <td>0.76</td>\n",
       "      <td>11.2</td>\n",
       "      <td>6</td>\n",
       "    </tr>\n",
       "    <tr>\n",
       "      <th>1596</th>\n",
       "      <td>6.3</td>\n",
       "      <td>0.510</td>\n",
       "      <td>0.13</td>\n",
       "      <td>2.3</td>\n",
       "      <td>0.076</td>\n",
       "      <td>29.0</td>\n",
       "      <td>40.0</td>\n",
       "      <td>0.99574</td>\n",
       "      <td>3.42</td>\n",
       "      <td>0.75</td>\n",
       "      <td>11.0</td>\n",
       "      <td>6</td>\n",
       "    </tr>\n",
       "    <tr>\n",
       "      <th>1597</th>\n",
       "      <td>5.9</td>\n",
       "      <td>0.645</td>\n",
       "      <td>0.12</td>\n",
       "      <td>2.0</td>\n",
       "      <td>0.075</td>\n",
       "      <td>32.0</td>\n",
       "      <td>44.0</td>\n",
       "      <td>0.99547</td>\n",
       "      <td>3.57</td>\n",
       "      <td>0.71</td>\n",
       "      <td>10.2</td>\n",
       "      <td>5</td>\n",
       "    </tr>\n",
       "    <tr>\n",
       "      <th>1598</th>\n",
       "      <td>6.0</td>\n",
       "      <td>0.310</td>\n",
       "      <td>0.47</td>\n",
       "      <td>3.6</td>\n",
       "      <td>0.067</td>\n",
       "      <td>18.0</td>\n",
       "      <td>42.0</td>\n",
       "      <td>0.99549</td>\n",
       "      <td>3.39</td>\n",
       "      <td>0.66</td>\n",
       "      <td>11.0</td>\n",
       "      <td>6</td>\n",
       "    </tr>\n",
       "  </tbody>\n",
       "</table>\n",
       "<p>1599 rows × 12 columns</p>\n",
       "</div>"
      ],
      "text/plain": [
       "      fixed acidity  volatile acidity  citric acid  residual sugar  chlorides  \\\n",
       "0               7.4             0.700         0.00             1.9      0.076   \n",
       "1               7.8             0.880         0.00             2.6      0.098   \n",
       "2               7.8             0.760         0.04             2.3      0.092   \n",
       "3              11.2             0.280         0.56             1.9      0.075   \n",
       "4               7.4             0.700         0.00             1.9      0.076   \n",
       "...             ...               ...          ...             ...        ...   \n",
       "1594            6.2             0.600         0.08             2.0      0.090   \n",
       "1595            5.9             0.550         0.10             2.2      0.062   \n",
       "1596            6.3             0.510         0.13             2.3      0.076   \n",
       "1597            5.9             0.645         0.12             2.0      0.075   \n",
       "1598            6.0             0.310         0.47             3.6      0.067   \n",
       "\n",
       "      free sulfur dioxide  total sulfur dioxide  density    pH  sulphates  \\\n",
       "0                    11.0                  34.0  0.99780  3.51       0.56   \n",
       "1                    25.0                  67.0  0.99680  3.20       0.68   \n",
       "2                    15.0                  54.0  0.99700  3.26       0.65   \n",
       "3                    17.0                  60.0  0.99800  3.16       0.58   \n",
       "4                    11.0                  34.0  0.99780  3.51       0.56   \n",
       "...                   ...                   ...      ...   ...        ...   \n",
       "1594                 32.0                  44.0  0.99490  3.45       0.58   \n",
       "1595                 39.0                  51.0  0.99512  3.52       0.76   \n",
       "1596                 29.0                  40.0  0.99574  3.42       0.75   \n",
       "1597                 32.0                  44.0  0.99547  3.57       0.71   \n",
       "1598                 18.0                  42.0  0.99549  3.39       0.66   \n",
       "\n",
       "      alcohol  quality  \n",
       "0         9.4        5  \n",
       "1         9.8        5  \n",
       "2         9.8        5  \n",
       "3         9.8        6  \n",
       "4         9.4        5  \n",
       "...       ...      ...  \n",
       "1594     10.5        5  \n",
       "1595     11.2        6  \n",
       "1596     11.0        6  \n",
       "1597     10.2        5  \n",
       "1598     11.0        6  \n",
       "\n",
       "[1599 rows x 12 columns]"
      ]
     },
     "execution_count": 4,
     "metadata": {},
     "output_type": "execute_result"
    }
   ],
   "source": [
    "df=pd.read_csv(\"winequality-red.csv\")\n",
    "df"
   ]
  },
  {
   "cell_type": "code",
   "execution_count": 5,
   "id": "5e925606",
   "metadata": {},
   "outputs": [],
   "source": [
    "# removing outliers\n",
    "z=np.abs(zscore(df))\n",
    "df_n=df[(z<3).all(axis=1)]"
   ]
  },
  {
   "cell_type": "markdown",
   "id": "af138d95",
   "metadata": {},
   "source": [
    "Less than 10% data has been removed as outliers."
   ]
  },
  {
   "cell_type": "code",
   "execution_count": 54,
   "id": "cc603699",
   "metadata": {
    "scrolled": true
   },
   "outputs": [
    {
     "data": {
      "text/plain": [
       "<AxesSubplot:>"
      ]
     },
     "execution_count": 54,
     "metadata": {},
     "output_type": "execute_result"
    },
    {
     "data": {
      "image/png": "[encoded data removed]",
      "text/plain": [
       "<Figure size 640x480 with 2 Axes>"
      ]
     },
     "metadata": {},
     "output_type": "display_data"
    }
   ],
   "source": [
    "#to check multicolinearity\n",
    "\n",
    "dfc=df_n.corr()\n",
    "sns.heatmap(dfc, annot= True, linewidths=0.75)"
   ]
  },
  {
   "cell_type": "code",
   "execution_count": 7,
   "id": "c3b29a6e",
   "metadata": {
    "scrolled": true
   },
   "outputs": [
    {
     "name": "stdout",
     "output_type": "stream",
     "text": [
      "     VIF Factor              features\n",
      "0     89.002451         fixed acidity\n",
      "1     19.579511      volatile acidity\n",
      "2      9.358017           citric acid\n",
      "3      9.927999        residual sugar\n",
      "4     18.125560             chlorides\n",
      "5      7.003640   free sulfur dioxide\n",
      "6      6.956718  total sulfur dioxide\n",
      "7   1696.645871               density\n",
      "8   1242.149186                    pH\n",
      "9     31.740424             sulphates\n",
      "10   141.935926               alcohol\n"
     ]
    }
   ],
   "source": [
    "#To remove multicolinearity.\n",
    "from statsmodels.stats.outliers_influence import variance_inflation_factor\n",
    "def vif_cal():\n",
    "    vif=pd.DataFrame()\n",
    "    vif[\"VIF Factor\"]=[variance_inflation_factor(df_n.iloc[:,:-1].values,i) for i in range(df_n.iloc[:,:-1].shape[1])]\n",
    "    vif[\"features\"]=df_n.iloc[:,:-1].columns\n",
    "    print(vif)\n",
    "vif_cal()"
   ]
  },
  {
   "cell_type": "code",
   "execution_count": null,
   "id": "891d8297",
   "metadata": {},
   "outputs": [],
   "source": []
  },
  {
   "cell_type": "code",
   "execution_count": 8,
   "id": "0fae22e7",
   "metadata": {},
   "outputs": [],
   "source": [
    "# dropping columns chlorides,residual sugar, free sulfur dioxide and ph.\n",
    "df_n.drop([\"chlorides\",\"pH\",\"residual sugar\",\"free sulfur dioxide\"], inplace=True, axis=1)"
   ]
  },
  {
   "cell_type": "code",
   "execution_count": 9,
   "id": "b038e87c",
   "metadata": {},
   "outputs": [
    {
     "data": {
      "text/plain": [
       "fixed acidity           float64\n",
       "volatile acidity        float64\n",
       "citric acid             float64\n",
       "total sulfur dioxide    float64\n",
       "density                 float64\n",
       "sulphates               float64\n",
       "alcohol                 float64\n",
       "quality                   int64\n",
       "dtype: object"
      ]
     },
     "execution_count": 9,
     "metadata": {},
     "output_type": "execute_result"
    }
   ],
   "source": [
    "df_n.dtypes"
   ]
  },
  {
   "cell_type": "code",
   "execution_count": 10,
   "id": "c2ab95a7",
   "metadata": {
    "scrolled": true
   },
   "outputs": [
    {
     "data": {
      "text/html": [
       "<div>\n",
       "<style scoped>\n",
       "    .dataframe tbody tr th:only-of-type {\n",
       "        vertical-align: middle;\n",
       "    }\n",
       "\n",
       "    .dataframe tbody tr th {\n",
       "        vertical-align: top;\n",
       "    }\n",
       "\n",
       "    .dataframe thead th {\n",
       "        text-align: right;\n",
       "    }\n",
       "</style>\n",
       "<table border=\"1\" class=\"dataframe\">\n",
       "  <thead>\n",
       "    <tr style=\"text-align: right;\">\n",
       "      <th></th>\n",
       "      <th>fixed acidity</th>\n",
       "      <th>volatile acidity</th>\n",
       "      <th>citric acid</th>\n",
       "      <th>total sulfur dioxide</th>\n",
       "      <th>density</th>\n",
       "      <th>sulphates</th>\n",
       "      <th>alcohol</th>\n",
       "      <th>quality</th>\n",
       "    </tr>\n",
       "  </thead>\n",
       "  <tbody>\n",
       "    <tr>\n",
       "      <th>count</th>\n",
       "      <td>1451.000000</td>\n",
       "      <td>1451.000000</td>\n",
       "      <td>1451.000000</td>\n",
       "      <td>1451.000000</td>\n",
       "      <td>1451.000000</td>\n",
       "      <td>1451.000000</td>\n",
       "      <td>1451.000000</td>\n",
       "      <td>1451.000000</td>\n",
       "    </tr>\n",
       "    <tr>\n",
       "      <th>mean</th>\n",
       "      <td>8.310062</td>\n",
       "      <td>0.522950</td>\n",
       "      <td>0.265382</td>\n",
       "      <td>43.735355</td>\n",
       "      <td>0.996710</td>\n",
       "      <td>0.642584</td>\n",
       "      <td>10.421089</td>\n",
       "      <td>5.659545</td>\n",
       "    </tr>\n",
       "    <tr>\n",
       "      <th>std</th>\n",
       "      <td>1.646458</td>\n",
       "      <td>0.168531</td>\n",
       "      <td>0.190934</td>\n",
       "      <td>29.441284</td>\n",
       "      <td>0.001716</td>\n",
       "      <td>0.129801</td>\n",
       "      <td>1.021588</td>\n",
       "      <td>0.781605</td>\n",
       "    </tr>\n",
       "    <tr>\n",
       "      <th>min</th>\n",
       "      <td>5.000000</td>\n",
       "      <td>0.120000</td>\n",
       "      <td>0.000000</td>\n",
       "      <td>6.000000</td>\n",
       "      <td>0.991500</td>\n",
       "      <td>0.330000</td>\n",
       "      <td>8.500000</td>\n",
       "      <td>4.000000</td>\n",
       "    </tr>\n",
       "    <tr>\n",
       "      <th>25%</th>\n",
       "      <td>7.100000</td>\n",
       "      <td>0.390000</td>\n",
       "      <td>0.090000</td>\n",
       "      <td>21.000000</td>\n",
       "      <td>0.995600</td>\n",
       "      <td>0.550000</td>\n",
       "      <td>9.500000</td>\n",
       "      <td>5.000000</td>\n",
       "    </tr>\n",
       "    <tr>\n",
       "      <th>50%</th>\n",
       "      <td>7.900000</td>\n",
       "      <td>0.520000</td>\n",
       "      <td>0.250000</td>\n",
       "      <td>36.000000</td>\n",
       "      <td>0.996700</td>\n",
       "      <td>0.620000</td>\n",
       "      <td>10.200000</td>\n",
       "      <td>6.000000</td>\n",
       "    </tr>\n",
       "    <tr>\n",
       "      <th>75%</th>\n",
       "      <td>9.200000</td>\n",
       "      <td>0.630000</td>\n",
       "      <td>0.420000</td>\n",
       "      <td>58.000000</td>\n",
       "      <td>0.997800</td>\n",
       "      <td>0.720000</td>\n",
       "      <td>11.100000</td>\n",
       "      <td>6.000000</td>\n",
       "    </tr>\n",
       "    <tr>\n",
       "      <th>max</th>\n",
       "      <td>13.500000</td>\n",
       "      <td>1.040000</td>\n",
       "      <td>0.790000</td>\n",
       "      <td>145.000000</td>\n",
       "      <td>1.002200</td>\n",
       "      <td>1.160000</td>\n",
       "      <td>13.600000</td>\n",
       "      <td>8.000000</td>\n",
       "    </tr>\n",
       "  </tbody>\n",
       "</table>\n",
       "</div>"
      ],
      "text/plain": [
       "       fixed acidity  volatile acidity  citric acid  total sulfur dioxide  \\\n",
       "count    1451.000000       1451.000000  1451.000000           1451.000000   \n",
       "mean        8.310062          0.522950     0.265382             43.735355   \n",
       "std         1.646458          0.168531     0.190934             29.441284   \n",
       "min         5.000000          0.120000     0.000000              6.000000   \n",
       "25%         7.100000          0.390000     0.090000             21.000000   \n",
       "50%         7.900000          0.520000     0.250000             36.000000   \n",
       "75%         9.200000          0.630000     0.420000             58.000000   \n",
       "max        13.500000          1.040000     0.790000            145.000000   \n",
       "\n",
       "           density    sulphates      alcohol      quality  \n",
       "count  1451.000000  1451.000000  1451.000000  1451.000000  \n",
       "mean      0.996710     0.642584    10.421089     5.659545  \n",
       "std       0.001716     0.129801     1.021588     0.781605  \n",
       "min       0.991500     0.330000     8.500000     4.000000  \n",
       "25%       0.995600     0.550000     9.500000     5.000000  \n",
       "50%       0.996700     0.620000    10.200000     6.000000  \n",
       "75%       0.997800     0.720000    11.100000     6.000000  \n",
       "max       1.002200     1.160000    13.600000     8.000000  "
      ]
     },
     "execution_count": 10,
     "metadata": {},
     "output_type": "execute_result"
    }
   ],
   "source": [
    "df_n.describe()"
   ]
  },
  {
   "cell_type": "markdown",
   "id": "3f3223e4",
   "metadata": {},
   "source": [
    "Mean is more than median, so data is skewed.\n",
    "Difference between 75th percentile and max is large, so outliers present."
   ]
  },
  {
   "cell_type": "code",
   "execution_count": 11,
   "id": "6b78ef55",
   "metadata": {
    "scrolled": false
   },
   "outputs": [
    {
     "data": {
      "text/plain": [
       "fixed acidity           0.823934\n",
       "volatile acidity        0.380659\n",
       "citric acid             0.291297\n",
       "total sulfur dioxide    1.183161\n",
       "density                 0.055738\n",
       "sulphates               0.891492\n",
       "alcohol                 0.758958\n",
       "quality                 0.407865\n",
       "dtype: float64"
      ]
     },
     "execution_count": 11,
     "metadata": {},
     "output_type": "execute_result"
    }
   ],
   "source": [
    "df_n.skew()"
   ]
  },
  {
   "cell_type": "code",
   "execution_count": 12,
   "id": "b16de561",
   "metadata": {},
   "outputs": [],
   "source": [
    "df_n[\"total sulfur dioxide\"]=np.log(df_n[\"total sulfur dioxide\"])"
   ]
  },
  {
   "cell_type": "code",
   "execution_count": 13,
   "id": "589e7362",
   "metadata": {},
   "outputs": [],
   "source": [
    "df_n[\"sulphates\"]=np.log(df_n[\"sulphates\"])"
   ]
  },
  {
   "cell_type": "markdown",
   "id": "050a37e1",
   "metadata": {},
   "source": [
    "Skewness removed for total sulfur dioxide and sulphates"
   ]
  },
  {
   "cell_type": "code",
   "execution_count": 14,
   "id": "34c7ecf2",
   "metadata": {},
   "outputs": [
    {
     "data": {
      "text/plain": [
       "fixed acidity           0\n",
       "volatile acidity        0\n",
       "citric acid             0\n",
       "total sulfur dioxide    0\n",
       "density                 0\n",
       "sulphates               0\n",
       "alcohol                 0\n",
       "quality                 0\n",
       "dtype: int64"
      ]
     },
     "execution_count": 14,
     "metadata": {},
     "output_type": "execute_result"
    }
   ],
   "source": [
    "df_n.isnull().sum()"
   ]
  },
  {
   "cell_type": "code",
   "execution_count": 15,
   "id": "08bf8637",
   "metadata": {
    "scrolled": true
   },
   "outputs": [
    {
     "data": {
      "text/plain": [
       "<AxesSubplot:xlabel='quality', ylabel='count'>"
      ]
     },
     "execution_count": 15,
     "metadata": {},
     "output_type": "execute_result"
    },
    {
     "data": {
      "image/png": "[encoded data removed]",
      "text/plain": [
       "<Figure size 640x480 with 1 Axes>"
      ]
     },
     "metadata": {},
     "output_type": "display_data"
    }
   ],
   "source": [
    "sns.countplot(df_n[\"quality\"])"
   ]
  },
  {
   "cell_type": "code",
   "execution_count": 16,
   "id": "951b0d53",
   "metadata": {},
   "outputs": [
    {
     "data": {
      "text/plain": [
       "array([[-0.55292997,  1.05091371, -1.39039974, ..., -0.61065143,\n",
       "        -0.99985592, -0.84412477],\n",
       "       [-0.3099004 ,  2.11933582, -1.39039974, ...,  0.39101696,\n",
       "        -0.6081737 , -0.84412477],\n",
       "       [-0.3099004 ,  1.40705441, -1.18083057, ...,  0.15823656,\n",
       "        -0.6081737 , -0.84412477],\n",
       "       ...,\n",
       "       [-1.22126131, -0.07686519, -0.70929993, ...,  0.89650672,\n",
       "         0.56687296,  0.43573421],\n",
       "       [-1.46429088,  0.72445139, -0.76169222, ...,  0.61374608,\n",
       "        -0.21649148, -0.84412477],\n",
       "       [-1.40353349, -1.26400088,  1.07203802, ...,  0.23700283,\n",
       "         0.56687296,  0.43573421]])"
      ]
     },
     "execution_count": 16,
     "metadata": {},
     "output_type": "execute_result"
    }
   ],
   "source": [
    "st=StandardScaler()\n",
    "st.fit_transform(df_n)"
   ]
  },
  {
   "cell_type": "code",
   "execution_count": 17,
   "id": "f349d82a",
   "metadata": {},
   "outputs": [],
   "source": [
    "dfx=df.iloc[:,0:-1]\n",
    "dfy=df.iloc[:,-1]"
   ]
  },
  {
   "cell_type": "code",
   "execution_count": 18,
   "id": "28564e5a",
   "metadata": {},
   "outputs": [
    {
     "name": "stdout",
     "output_type": "stream",
     "text": [
      "5    681\n",
      "6    681\n",
      "7    681\n",
      "4    681\n",
      "8    681\n",
      "3    681\n",
      "Name: quality, dtype: int64\n"
     ]
    },
    {
     "data": {
      "text/plain": [
       "<AxesSubplot:xlabel='quality', ylabel='count'>"
      ]
     },
     "execution_count": 18,
     "metadata": {},
     "output_type": "execute_result"
    },
    {
     "data": {
      "image/png": "[encoded data removed]",
      "text/plain": [
       "<Figure size 640x480 with 1 Axes>"
      ]
     },
     "metadata": {},
     "output_type": "display_data"
    }
   ],
   "source": [
    "# to balance the output data\n",
    "smt=SMOTE()\n",
    "trainx, trainy=smt.fit_resample(dfx,dfy)\n",
    "print(trainy.value_counts())\n",
    "sns.countplot(trainy)"
   ]
  },
  {
   "cell_type": "code",
   "execution_count": 19,
   "id": "70f7f320",
   "metadata": {},
   "outputs": [],
   "source": [
    "x_train,x_test,y_train,y_test=train_test_split(trainx,trainy,test_size=0.25,random_state=15)"
   ]
  },
  {
   "cell_type": "code",
   "execution_count": 20,
   "id": "5c7d2883",
   "metadata": {},
   "outputs": [],
   "source": [
    "lg=LogisticRegression()\n",
    "gnb=GaussianNB()\n",
    "svc=SVC()\n",
    "dtc=DecisionTreeClassifier()\n",
    "knn=KNeighborsClassifier()"
   ]
  },
  {
   "cell_type": "code",
   "execution_count": 21,
   "id": "9501b343",
   "metadata": {},
   "outputs": [
    {
     "name": "stdout",
     "output_type": "stream",
     "text": [
      "accuracy score for  LogisticRegression() is :  \n",
      " 0.5048923679060665 \n",
      " [[131  10  20   0   0   0]\n",
      " [ 36  78  32  12   1   0]\n",
      " [ 28  25  83  23   8   4]\n",
      " [ 19  31  24  53  18  28]\n",
      " [  6   0   2  42  55  74]\n",
      " [  0   0   0   3  60 116]] \n",
      "               precision    recall  f1-score   support\n",
      "\n",
      "           3       0.60      0.81      0.69       161\n",
      "           4       0.54      0.49      0.51       159\n",
      "           5       0.52      0.49      0.50       171\n",
      "           6       0.40      0.31      0.35       173\n",
      "           7       0.39      0.31      0.34       179\n",
      "           8       0.52      0.65      0.58       179\n",
      "\n",
      "    accuracy                           0.50      1022\n",
      "   macro avg       0.49      0.51      0.50      1022\n",
      "weighted avg       0.49      0.50      0.49      1022\n",
      " \n",
      "\n",
      "accuracy score for  GaussianNB() is :  \n",
      " 0.5215264187866928 \n",
      " [[127   5  14  15   0   0]\n",
      " [ 50  72  21  13   3   0]\n",
      " [ 21  39  72  18  17   4]\n",
      " [ 21  35  21  36  35  25]\n",
      " [  2   8   1  24  72  72]\n",
      " [  0   0   0   8  17 154]] \n",
      "               precision    recall  f1-score   support\n",
      "\n",
      "           3       0.57      0.79      0.66       161\n",
      "           4       0.45      0.45      0.45       159\n",
      "           5       0.56      0.42      0.48       171\n",
      "           6       0.32      0.21      0.25       173\n",
      "           7       0.50      0.40      0.45       179\n",
      "           8       0.60      0.86      0.71       179\n",
      "\n",
      "    accuracy                           0.52      1022\n",
      "   macro avg       0.50      0.52      0.50      1022\n",
      "weighted avg       0.50      0.52      0.50      1022\n",
      " \n",
      "\n",
      "accuracy score for  SVC() is :  \n",
      " 0.3923679060665362 \n",
      " [[109   0  11  40   1   0]\n",
      " [ 84   0  25  41   5   4]\n",
      " [ 26   1  86  45   4   9]\n",
      " [ 29   0  31  68  22  23]\n",
      " [ 29   0  13  53  26  58]\n",
      " [  4   0   4  34  25 112]] \n",
      "               precision    recall  f1-score   support\n",
      "\n",
      "           3       0.39      0.68      0.49       161\n",
      "           4       0.00      0.00      0.00       159\n",
      "           5       0.51      0.50      0.50       171\n",
      "           6       0.24      0.39      0.30       173\n",
      "           7       0.31      0.15      0.20       179\n",
      "           8       0.54      0.63      0.58       179\n",
      "\n",
      "    accuracy                           0.39      1022\n",
      "   macro avg       0.33      0.39      0.35      1022\n",
      "weighted avg       0.34      0.39      0.35      1022\n",
      " \n",
      "\n",
      "accuracy score for  DecisionTreeClassifier() is :  \n",
      " 0.8033268101761253 \n",
      " [[155   2   1   3   0   0]\n",
      " [  6 128  15   8   2   0]\n",
      " [  4  12 117  32   4   2]\n",
      " [  2  11  24 101  34   1]\n",
      " [  1   0   3  16 151   8]\n",
      " [  0   0   0   1   9 169]] \n",
      "               precision    recall  f1-score   support\n",
      "\n",
      "           3       0.92      0.96      0.94       161\n",
      "           4       0.84      0.81      0.82       159\n",
      "           5       0.73      0.68      0.71       171\n",
      "           6       0.63      0.58      0.60       173\n",
      "           7       0.76      0.84      0.80       179\n",
      "           8       0.94      0.94      0.94       179\n",
      "\n",
      "    accuracy                           0.80      1022\n",
      "   macro avg       0.80      0.80      0.80      1022\n",
      "weighted avg       0.80      0.80      0.80      1022\n",
      " \n",
      "\n",
      "accuracy score for  KNeighborsClassifier() is :  \n",
      " 0.6810176125244618 \n",
      " [[153   1   5   2   0   0]\n",
      " [ 15 132   6   2   1   3]\n",
      " [ 14  35  81  23  10   8]\n",
      " [ 16  25  41  41  30  20]\n",
      " [  7   9   4  15 133  11]\n",
      " [  0   1   4   5  13 156]] \n",
      "               precision    recall  f1-score   support\n",
      "\n",
      "           3       0.75      0.95      0.84       161\n",
      "           4       0.65      0.83      0.73       159\n",
      "           5       0.57      0.47      0.52       171\n",
      "           6       0.47      0.24      0.31       173\n",
      "           7       0.71      0.74      0.73       179\n",
      "           8       0.79      0.87      0.83       179\n",
      "\n",
      "    accuracy                           0.68      1022\n",
      "   macro avg       0.66      0.68      0.66      1022\n",
      "weighted avg       0.66      0.68      0.66      1022\n",
      " \n",
      "\n"
     ]
    },
    {
     "data": {
      "image/png": "[encoded data removed]",
      "text/plain": [
       "<Figure size 640x480 with 6 Axes>"
      ]
     },
     "metadata": {},
     "output_type": "display_data"
    }
   ],
   "source": [
    "model=[lg,gnb,svc,dtc,knn]\n",
    "for m in model:\n",
    "    m.fit(x_train,y_train)\n",
    "    m.score(x_train,y_train)\n",
    "    predm=m.predict(x_test)\n",
    "    print(\"accuracy score for \",m,\"is : \",\"\\n\",accuracy_score(y_test,predm),\"\\n\",confusion_matrix(y_test,predm),\"\\n\",classification_report(y_test,predm),\"\\n\")\n",
    "    sns.heatmap(confusion_matrix(y_test,predm),annot=True)"
   ]
  },
  {
   "cell_type": "markdown",
   "id": "5dcae51e",
   "metadata": {},
   "source": [
    "Decision Tree Classifier gives the best accuracy, so proceeding with that."
   ]
  },
  {
   "cell_type": "code",
   "execution_count": 22,
   "id": "b6201255",
   "metadata": {},
   "outputs": [
    {
     "data": {
      "text/plain": [
       "array([0.77650897, 0.78303426, 0.77487765, 0.80424144, 0.74836601])"
      ]
     },
     "execution_count": 22,
     "metadata": {},
     "output_type": "execute_result"
    }
   ],
   "source": [
    "from sklearn.model_selection import cross_val_score\n",
    "score= cross_val_score(dtc,x_train,y_train,cv=5)\n",
    "score"
   ]
  },
  {
   "cell_type": "code",
   "execution_count": 23,
   "id": "c7c0c340",
   "metadata": {},
   "outputs": [
    {
     "data": {
      "text/plain": [
       "{'alpha': 1e-06}"
      ]
     },
     "execution_count": 23,
     "metadata": {},
     "output_type": "execute_result"
    }
   ],
   "source": [
    "from sklearn.model_selection import GridSearchCV\n",
    "from sklearn.linear_model import ElasticNet\n",
    "dict1={\"alpha\":[0.0000001,0.000001,0.00001,0.0001,0.001,0.01,0.1]}\n",
    "gv=GridSearchCV(estimator=ElasticNet(),param_grid=dict1, refit=True)\n",
    "gv.fit(x_train,y_train)\n",
    "gv.best_params_"
   ]
  },
  {
   "cell_type": "code",
   "execution_count": 24,
   "id": "5cb672bc",
   "metadata": {},
   "outputs": [
    {
     "data": {
      "text/plain": [
       "0.8023483365949119"
      ]
     },
     "execution_count": 24,
     "metadata": {},
     "output_type": "execute_result"
    }
   ],
   "source": [
    "dtc.fit(x_train,y_train)\n",
    "pred=dtc.predict(x_test)\n",
    "accuracy_score(y_test,pred)"
   ]
  },
  {
   "cell_type": "code",
   "execution_count": 25,
   "id": "e23449ee",
   "metadata": {},
   "outputs": [],
   "source": [
    "from sklearn.metrics import roc_curve,roc_auc_score\n",
    "import matplotlib.pyplot as plt"
   ]
  },
  {
   "cell_type": "code",
   "execution_count": 26,
   "id": "bbe3c2d2",
   "metadata": {},
   "outputs": [],
   "source": [
    "y_pred_prob=dtc.predict_proba(x_test)[:,1]"
   ]
  },
  {
   "cell_type": "code",
   "execution_count": 27,
   "id": "fdc3ba5f",
   "metadata": {},
   "outputs": [],
   "source": [
    "fps,tps,thresholds=roc_curve(y_test,y_pred_prob,pos_label=4)"
   ]
  },
  {
   "cell_type": "code",
   "execution_count": 28,
   "id": "8a0c55ff",
   "metadata": {},
   "outputs": [
    {
     "data": {
      "text/plain": [
       "array([0.        , 0.81132075, 1.        ])"
      ]
     },
     "execution_count": 28,
     "metadata": {},
     "output_type": "execute_result"
    }
   ],
   "source": [
    "tps"
   ]
  },
  {
   "cell_type": "code",
   "execution_count": 29,
   "id": "b7fc343c",
   "metadata": {
    "scrolled": true
   },
   "outputs": [
    {
     "data": {
      "text/plain": [
       "[<matplotlib.lines.Line2D at 0x1b40d459e50>]"
      ]
     },
     "execution_count": 29,
     "metadata": {},
     "output_type": "execute_result"
    },
    {
     "data": {
      "image/png": "[encoded data removed]",
      "text/plain": [
       "<Figure size 640x480 with 1 Axes>"
      ]
     },
     "metadata": {},
     "output_type": "display_data"
    }
   ],
   "source": [
    "plt.plot(fps,tps,label = \"DTC\")"
   ]
  },
  {
   "cell_type": "code",
   "execution_count": 30,
   "id": "ff7928bd",
   "metadata": {},
   "outputs": [],
   "source": [
    "from sklearn.ensemble import RandomForestClassifier,AdaBoostClassifier,RandomForestRegressor"
   ]
  },
  {
   "cell_type": "code",
   "execution_count": 31,
   "id": "ad0781ab",
   "metadata": {},
   "outputs": [],
   "source": [
    "rf=RandomForestClassifier()\n",
    "ran=[]\n",
    "for i in range(50):\n",
    "    ran.append(i)"
   ]
  },
  {
   "cell_type": "code",
   "execution_count": 32,
   "id": "9389beb8",
   "metadata": {},
   "outputs": [
    {
     "data": {
      "text/plain": [
       "{'random_state': 46}"
      ]
     },
     "execution_count": 32,
     "metadata": {},
     "output_type": "execute_result"
    }
   ],
   "source": [
    "dict2={\"random_state\":ran}\n",
    "gv=GridSearchCV(rf,dict2, refit=True)\n",
    "gv.fit(x_train,y_train)\n",
    "gv.best_params_"
   ]
  },
  {
   "cell_type": "code",
   "execution_count": 33,
   "id": "c9a83372",
   "metadata": {
    "scrolled": true
   },
   "outputs": [
    {
     "data": {
      "text/plain": [
       "0.8581213307240705"
      ]
     },
     "execution_count": 33,
     "metadata": {},
     "output_type": "execute_result"
    }
   ],
   "source": [
    "rf1=RandomForestClassifier(random_state=22)\n",
    "rf1.fit(x_train,y_train)\n",
    "prf=rf1.predict(x_test)\n",
    "accuracy_score(y_test,prf)"
   ]
  },
  {
   "cell_type": "code",
   "execution_count": 55,
   "id": "c76980e6",
   "metadata": {},
   "outputs": [],
   "source": [
    "def predict(inplist):\n",
    "    inp=np.array(inplist)\n",
    "    i=inp.reshape(1,-1)\n",
    "    res=rf1.predict(i)\n",
    "    print(res)\n",
    "    if res>6:\n",
    "        print(\"it is a good quality wine\")\n",
    "    else:\n",
    "        print(\"the quality of wine is not good\")"
   ]
  },
  {
   "cell_type": "code",
   "execution_count": 56,
   "id": "0339500b",
   "metadata": {},
   "outputs": [
    {
     "name": "stdout",
     "output_type": "stream",
     "text": [
      "[6]\n",
      "the quality of wine is not good\n"
     ]
    }
   ],
   "source": [
    "#to enter all the values directly here, run this\n",
    "predict([11.2, 0.28, 0.56, 1.9, 0.075, 17.0, 60.0, 0.998, 3.16, 0.58, 9.8])"
   ]
  },
  {
   "cell_type": "code",
   "execution_count": 57,
   "id": "81585193",
   "metadata": {
    "scrolled": true
   },
   "outputs": [
    {
     "name": "stdout",
     "output_type": "stream",
     "text": [
      "enter the value for fixed acidity :  11.2\n",
      "enter the value for volatile acidity :  0.28\n",
      "enter the value for citric acid :  0.56\n",
      "enter the value for residual sugar :  1.9\n",
      "enter the value for chlorides :  0.075\n",
      "enter the value for free sulfur dioxide :  17.0\n",
      "enter the value for total sulfur dioxide :  60\n",
      "enter the value for density :  0.998\n",
      "enter the value for pH :  3.16\n",
      "enter the value for sulphates :  0.58\n",
      "enter the value for alcohol :  9.8\n",
      "[6]\n",
      "the quality of wine is not good\n"
     ]
    }
   ],
   "source": [
    "#to enter values one by one, run this\n",
    "inplist=[]\n",
    "vari=[\"fixed acidity\",\"volatile acidity\",\"citric acid\",\"residual sugar\",\"chlorides\",\"free sulfur dioxide\",\"total sulfur dioxide\",\"density\",\"pH\",\"sulphates\",\"alcohol\"]\n",
    "for v in vari:\n",
    "    n=float(input(f\"enter the value for {v} :  \"))\n",
    "    inplist.append(n)\n",
    "    \n",
    "predict(inplist)"
   ]
  },
  {
   "cell_type": "markdown",
   "id": "068a69ba",
   "metadata": {},
   "source": [
    "According to the analysis, citric acid, sulphates and alcohol are the physiochemical properties that makes a wine good.\n",
    "While total sulphur dioxide and volatile acidity has negative impact on quality of wine."
   ]
  }
 ],
 "metadata": {
  "kernelspec": {
   "display_name": "Python 3 (ipykernel)",
   "language": "python",
   "name": "python3"
  },
  "language_info": {
   "codemirror_mode": {
    "name": "ipython",
    "version": 3
   },
   "file_extension": ".py",
   "mimetype": "text/x-python",
   "name": "python",
   "nbconvert_exporter": "python",
   "pygments_lexer": "ipython3",
   "version": "3.9.13"
  }
 },
 "nbformat": 4,
 "nbformat_minor": 5
}
