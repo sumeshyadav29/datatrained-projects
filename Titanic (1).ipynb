{
 "cells": [
  {
   "cell_type": "markdown",
   "id": "93f997fa",
   "metadata": {},
   "source": [
    " The Titanic Problem is based on the sinking of the ‘Unsinkable’ ship Titanic in early 1912. It gives you information about multiple people like their ages, sexes, sibling counts, embarkment points, and whether or not they survived the disaster. Based on these features, you have to predict if an arbitrary passenger on Titanic would survive the sinking or not. "
   ]
  },
  {
   "cell_type": "code",
   "execution_count": 1,
   "id": "4f0fb674",
   "metadata": {},
   "outputs": [],
   "source": [
    "import pandas as pd\n",
    "import numpy as np\n",
    "import seaborn as sns\n",
    "import matplotlib.pyplot as plt\n",
    "import scipy\n",
    "from scipy import stats\n",
    "from scipy.stats import zscore\n",
    "import sklearn\n",
    "from sklearn.linear_model import LogisticRegression\n",
    "from sklearn.model_selection import train_test_split, cross_val_score\n",
    "from sklearn.metrics import accuracy_score, confusion_matrix,classification_report\n",
    "from imblearn.over_sampling import SMOTE\n",
    "from sklearn.preprocessing import StandardScaler, OneHotEncoder\n",
    "from sklearn.preprocessing import QuantileTransformer\n",
    "\n",
    "from sklearn.naive_bayes import GaussianNB\n",
    "from sklearn.svm import SVC\n",
    "from sklearn.tree import DecisionTreeClassifier\n",
    "from sklearn.neighbors import KNeighborsClassifier\n",
    "from sklearn.metrics import accuracy_score, confusion_matrix, classification_report\n",
    "import warnings\n",
    "warnings.filterwarnings(\"ignore\")"
   ]
  },
  {
   "cell_type": "code",
   "execution_count": 2,
   "id": "42c836d8",
   "metadata": {
    "scrolled": true
   },
   "outputs": [
    {
     "data": {
      "text/html": [
       "<div>\n",
       "<style scoped>\n",
       "    .dataframe tbody tr th:only-of-type {\n",
       "        vertical-align: middle;\n",
       "    }\n",
       "\n",
       "    .dataframe tbody tr th {\n",
       "        vertical-align: top;\n",
       "    }\n",
       "\n",
       "    .dataframe thead th {\n",
       "        text-align: right;\n",
       "    }\n",
       "</style>\n",
       "<table border=\"1\" class=\"dataframe\">\n",
       "  <thead>\n",
       "    <tr style=\"text-align: right;\">\n",
       "      <th></th>\n",
       "      <th>PassengerId</th>\n",
       "      <th>Survived</th>\n",
       "      <th>Pclass</th>\n",
       "      <th>Name</th>\n",
       "      <th>Sex</th>\n",
       "      <th>Age</th>\n",
       "      <th>SibSp</th>\n",
       "      <th>Parch</th>\n",
       "      <th>Ticket</th>\n",
       "      <th>Fare</th>\n",
       "      <th>Cabin</th>\n",
       "      <th>Embarked</th>\n",
       "    </tr>\n",
       "  </thead>\n",
       "  <tbody>\n",
       "    <tr>\n",
       "      <th>0</th>\n",
       "      <td>1</td>\n",
       "      <td>0</td>\n",
       "      <td>3</td>\n",
       "      <td>Braund, Mr. Owen Harris</td>\n",
       "      <td>male</td>\n",
       "      <td>22.0</td>\n",
       "      <td>1</td>\n",
       "      <td>0</td>\n",
       "      <td>A/5 21171</td>\n",
       "      <td>7.2500</td>\n",
       "      <td>NaN</td>\n",
       "      <td>S</td>\n",
       "    </tr>\n",
       "    <tr>\n",
       "      <th>1</th>\n",
       "      <td>2</td>\n",
       "      <td>1</td>\n",
       "      <td>1</td>\n",
       "      <td>Cumings, Mrs. John Bradley (Florence Briggs Th...</td>\n",
       "      <td>female</td>\n",
       "      <td>38.0</td>\n",
       "      <td>1</td>\n",
       "      <td>0</td>\n",
       "      <td>PC 17599</td>\n",
       "      <td>71.2833</td>\n",
       "      <td>C85</td>\n",
       "      <td>C</td>\n",
       "    </tr>\n",
       "    <tr>\n",
       "      <th>2</th>\n",
       "      <td>3</td>\n",
       "      <td>1</td>\n",
       "      <td>3</td>\n",
       "      <td>Heikkinen, Miss. Laina</td>\n",
       "      <td>female</td>\n",
       "      <td>26.0</td>\n",
       "      <td>0</td>\n",
       "      <td>0</td>\n",
       "      <td>STON/O2. 3101282</td>\n",
       "      <td>7.9250</td>\n",
       "      <td>NaN</td>\n",
       "      <td>S</td>\n",
       "    </tr>\n",
       "    <tr>\n",
       "      <th>3</th>\n",
       "      <td>4</td>\n",
       "      <td>1</td>\n",
       "      <td>1</td>\n",
       "      <td>Futrelle, Mrs. Jacques Heath (Lily May Peel)</td>\n",
       "      <td>female</td>\n",
       "      <td>35.0</td>\n",
       "      <td>1</td>\n",
       "      <td>0</td>\n",
       "      <td>113803</td>\n",
       "      <td>53.1000</td>\n",
       "      <td>C123</td>\n",
       "      <td>S</td>\n",
       "    </tr>\n",
       "    <tr>\n",
       "      <th>4</th>\n",
       "      <td>5</td>\n",
       "      <td>0</td>\n",
       "      <td>3</td>\n",
       "      <td>Allen, Mr. William Henry</td>\n",
       "      <td>male</td>\n",
       "      <td>35.0</td>\n",
       "      <td>0</td>\n",
       "      <td>0</td>\n",
       "      <td>373450</td>\n",
       "      <td>8.0500</td>\n",
       "      <td>NaN</td>\n",
       "      <td>S</td>\n",
       "    </tr>\n",
       "    <tr>\n",
       "      <th>...</th>\n",
       "      <td>...</td>\n",
       "      <td>...</td>\n",
       "      <td>...</td>\n",
       "      <td>...</td>\n",
       "      <td>...</td>\n",
       "      <td>...</td>\n",
       "      <td>...</td>\n",
       "      <td>...</td>\n",
       "      <td>...</td>\n",
       "      <td>...</td>\n",
       "      <td>...</td>\n",
       "      <td>...</td>\n",
       "    </tr>\n",
       "    <tr>\n",
       "      <th>886</th>\n",
       "      <td>887</td>\n",
       "      <td>0</td>\n",
       "      <td>2</td>\n",
       "      <td>Montvila, Rev. Juozas</td>\n",
       "      <td>male</td>\n",
       "      <td>27.0</td>\n",
       "      <td>0</td>\n",
       "      <td>0</td>\n",
       "      <td>211536</td>\n",
       "      <td>13.0000</td>\n",
       "      <td>NaN</td>\n",
       "      <td>S</td>\n",
       "    </tr>\n",
       "    <tr>\n",
       "      <th>887</th>\n",
       "      <td>888</td>\n",
       "      <td>1</td>\n",
       "      <td>1</td>\n",
       "      <td>Graham, Miss. Margaret Edith</td>\n",
       "      <td>female</td>\n",
       "      <td>19.0</td>\n",
       "      <td>0</td>\n",
       "      <td>0</td>\n",
       "      <td>112053</td>\n",
       "      <td>30.0000</td>\n",
       "      <td>B42</td>\n",
       "      <td>S</td>\n",
       "    </tr>\n",
       "    <tr>\n",
       "      <th>888</th>\n",
       "      <td>889</td>\n",
       "      <td>0</td>\n",
       "      <td>3</td>\n",
       "      <td>Johnston, Miss. Catherine Helen \"Carrie\"</td>\n",
       "      <td>female</td>\n",
       "      <td>NaN</td>\n",
       "      <td>1</td>\n",
       "      <td>2</td>\n",
       "      <td>W./C. 6607</td>\n",
       "      <td>23.4500</td>\n",
       "      <td>NaN</td>\n",
       "      <td>S</td>\n",
       "    </tr>\n",
       "    <tr>\n",
       "      <th>889</th>\n",
       "      <td>890</td>\n",
       "      <td>1</td>\n",
       "      <td>1</td>\n",
       "      <td>Behr, Mr. Karl Howell</td>\n",
       "      <td>male</td>\n",
       "      <td>26.0</td>\n",
       "      <td>0</td>\n",
       "      <td>0</td>\n",
       "      <td>111369</td>\n",
       "      <td>30.0000</td>\n",
       "      <td>C148</td>\n",
       "      <td>C</td>\n",
       "    </tr>\n",
       "    <tr>\n",
       "      <th>890</th>\n",
       "      <td>891</td>\n",
       "      <td>0</td>\n",
       "      <td>3</td>\n",
       "      <td>Dooley, Mr. Patrick</td>\n",
       "      <td>male</td>\n",
       "      <td>32.0</td>\n",
       "      <td>0</td>\n",
       "      <td>0</td>\n",
       "      <td>370376</td>\n",
       "      <td>7.7500</td>\n",
       "      <td>NaN</td>\n",
       "      <td>Q</td>\n",
       "    </tr>\n",
       "  </tbody>\n",
       "</table>\n",
       "<p>891 rows × 12 columns</p>\n",
       "</div>"
      ],
      "text/plain": [
       "     PassengerId  Survived  Pclass  \\\n",
       "0              1         0       3   \n",
       "1              2         1       1   \n",
       "2              3         1       3   \n",
       "3              4         1       1   \n",
       "4              5         0       3   \n",
       "..           ...       ...     ...   \n",
       "886          887         0       2   \n",
       "887          888         1       1   \n",
       "888          889         0       3   \n",
       "889          890         1       1   \n",
       "890          891         0       3   \n",
       "\n",
       "                                                  Name     Sex   Age  SibSp  \\\n",
       "0                              Braund, Mr. Owen Harris    male  22.0      1   \n",
       "1    Cumings, Mrs. John Bradley (Florence Briggs Th...  female  38.0      1   \n",
       "2                               Heikkinen, Miss. Laina  female  26.0      0   \n",
       "3         Futrelle, Mrs. Jacques Heath (Lily May Peel)  female  35.0      1   \n",
       "4                             Allen, Mr. William Henry    male  35.0      0   \n",
       "..                                                 ...     ...   ...    ...   \n",
       "886                              Montvila, Rev. Juozas    male  27.0      0   \n",
       "887                       Graham, Miss. Margaret Edith  female  19.0      0   \n",
       "888           Johnston, Miss. Catherine Helen \"Carrie\"  female   NaN      1   \n",
       "889                              Behr, Mr. Karl Howell    male  26.0      0   \n",
       "890                                Dooley, Mr. Patrick    male  32.0      0   \n",
       "\n",
       "     Parch            Ticket     Fare Cabin Embarked  \n",
       "0        0         A/5 21171   7.2500   NaN        S  \n",
       "1        0          PC 17599  71.2833   C85        C  \n",
       "2        0  STON/O2. 3101282   7.9250   NaN        S  \n",
       "3        0            113803  53.1000  C123        S  \n",
       "4        0            373450   8.0500   NaN        S  \n",
       "..     ...               ...      ...   ...      ...  \n",
       "886      0            211536  13.0000   NaN        S  \n",
       "887      0            112053  30.0000   B42        S  \n",
       "888      2        W./C. 6607  23.4500   NaN        S  \n",
       "889      0            111369  30.0000  C148        C  \n",
       "890      0            370376   7.7500   NaN        Q  \n",
       "\n",
       "[891 rows x 12 columns]"
      ]
     },
     "execution_count": 2,
     "metadata": {},
     "output_type": "execute_result"
    }
   ],
   "source": [
    "df=pd.read_csv(\"https://raw.githubusercontent.com/dsrscientist/dataset1/master/titanic_train.csv\")\n",
    "df"
   ]
  },
  {
   "cell_type": "code",
   "execution_count": 3,
   "id": "4995429a",
   "metadata": {
    "scrolled": true
   },
   "outputs": [
    {
     "data": {
      "text/html": [
       "<div>\n",
       "<style scoped>\n",
       "    .dataframe tbody tr th:only-of-type {\n",
       "        vertical-align: middle;\n",
       "    }\n",
       "\n",
       "    .dataframe tbody tr th {\n",
       "        vertical-align: top;\n",
       "    }\n",
       "\n",
       "    .dataframe thead th {\n",
       "        text-align: right;\n",
       "    }\n",
       "</style>\n",
       "<table border=\"1\" class=\"dataframe\">\n",
       "  <thead>\n",
       "    <tr style=\"text-align: right;\">\n",
       "      <th></th>\n",
       "      <th>PassengerId</th>\n",
       "      <th>Survived</th>\n",
       "      <th>Pclass</th>\n",
       "      <th>Age</th>\n",
       "      <th>SibSp</th>\n",
       "      <th>Parch</th>\n",
       "      <th>Fare</th>\n",
       "    </tr>\n",
       "  </thead>\n",
       "  <tbody>\n",
       "    <tr>\n",
       "      <th>count</th>\n",
       "      <td>891.000000</td>\n",
       "      <td>891.000000</td>\n",
       "      <td>891.000000</td>\n",
       "      <td>714.000000</td>\n",
       "      <td>891.000000</td>\n",
       "      <td>891.000000</td>\n",
       "      <td>891.000000</td>\n",
       "    </tr>\n",
       "    <tr>\n",
       "      <th>mean</th>\n",
       "      <td>446.000000</td>\n",
       "      <td>0.383838</td>\n",
       "      <td>2.308642</td>\n",
       "      <td>29.699118</td>\n",
       "      <td>0.523008</td>\n",
       "      <td>0.381594</td>\n",
       "      <td>32.204208</td>\n",
       "    </tr>\n",
       "    <tr>\n",
       "      <th>std</th>\n",
       "      <td>257.353842</td>\n",
       "      <td>0.486592</td>\n",
       "      <td>0.836071</td>\n",
       "      <td>14.526497</td>\n",
       "      <td>1.102743</td>\n",
       "      <td>0.806057</td>\n",
       "      <td>49.693429</td>\n",
       "    </tr>\n",
       "    <tr>\n",
       "      <th>min</th>\n",
       "      <td>1.000000</td>\n",
       "      <td>0.000000</td>\n",
       "      <td>1.000000</td>\n",
       "      <td>0.420000</td>\n",
       "      <td>0.000000</td>\n",
       "      <td>0.000000</td>\n",
       "      <td>0.000000</td>\n",
       "    </tr>\n",
       "    <tr>\n",
       "      <th>25%</th>\n",
       "      <td>223.500000</td>\n",
       "      <td>0.000000</td>\n",
       "      <td>2.000000</td>\n",
       "      <td>20.125000</td>\n",
       "      <td>0.000000</td>\n",
       "      <td>0.000000</td>\n",
       "      <td>7.910400</td>\n",
       "    </tr>\n",
       "    <tr>\n",
       "      <th>50%</th>\n",
       "      <td>446.000000</td>\n",
       "      <td>0.000000</td>\n",
       "      <td>3.000000</td>\n",
       "      <td>28.000000</td>\n",
       "      <td>0.000000</td>\n",
       "      <td>0.000000</td>\n",
       "      <td>14.454200</td>\n",
       "    </tr>\n",
       "    <tr>\n",
       "      <th>75%</th>\n",
       "      <td>668.500000</td>\n",
       "      <td>1.000000</td>\n",
       "      <td>3.000000</td>\n",
       "      <td>38.000000</td>\n",
       "      <td>1.000000</td>\n",
       "      <td>0.000000</td>\n",
       "      <td>31.000000</td>\n",
       "    </tr>\n",
       "    <tr>\n",
       "      <th>max</th>\n",
       "      <td>891.000000</td>\n",
       "      <td>1.000000</td>\n",
       "      <td>3.000000</td>\n",
       "      <td>80.000000</td>\n",
       "      <td>8.000000</td>\n",
       "      <td>6.000000</td>\n",
       "      <td>512.329200</td>\n",
       "    </tr>\n",
       "  </tbody>\n",
       "</table>\n",
       "</div>"
      ],
      "text/plain": [
       "       PassengerId    Survived      Pclass         Age       SibSp  \\\n",
       "count   891.000000  891.000000  891.000000  714.000000  891.000000   \n",
       "mean    446.000000    0.383838    2.308642   29.699118    0.523008   \n",
       "std     257.353842    0.486592    0.836071   14.526497    1.102743   \n",
       "min       1.000000    0.000000    1.000000    0.420000    0.000000   \n",
       "25%     223.500000    0.000000    2.000000   20.125000    0.000000   \n",
       "50%     446.000000    0.000000    3.000000   28.000000    0.000000   \n",
       "75%     668.500000    1.000000    3.000000   38.000000    1.000000   \n",
       "max     891.000000    1.000000    3.000000   80.000000    8.000000   \n",
       "\n",
       "            Parch        Fare  \n",
       "count  891.000000  891.000000  \n",
       "mean     0.381594   32.204208  \n",
       "std      0.806057   49.693429  \n",
       "min      0.000000    0.000000  \n",
       "25%      0.000000    7.910400  \n",
       "50%      0.000000   14.454200  \n",
       "75%      0.000000   31.000000  \n",
       "max      6.000000  512.329200  "
      ]
     },
     "execution_count": 3,
     "metadata": {},
     "output_type": "execute_result"
    }
   ],
   "source": [
    "df.describe()"
   ]
  },
  {
   "cell_type": "code",
   "execution_count": 4,
   "id": "d0d0d1b3",
   "metadata": {
    "scrolled": true
   },
   "outputs": [
    {
     "data": {
      "text/plain": [
       "<AxesSubplot:title={'center':'Survival Count'}>"
      ]
     },
     "execution_count": 4,
     "metadata": {},
     "output_type": "execute_result"
    },
    {
     "data": {
      "image/png": "[encoded data removed]",
      "text/plain": [
       "<Figure size 640x480 with 1 Axes>"
      ]
     },
     "metadata": {},
     "output_type": "display_data"
    }
   ],
   "source": [
    "df['Survived'].value_counts().plot(kind='bar', title='Survival Count')"
   ]
  },
  {
   "cell_type": "markdown",
   "id": "d922723c",
   "metadata": {},
   "source": [
    "We can infer from here that majority of people did not survive the accident."
   ]
  },
  {
   "cell_type": "code",
   "execution_count": 5,
   "id": "e1a626e6",
   "metadata": {
    "scrolled": false
   },
   "outputs": [
    {
     "data": {
      "text/plain": [
       "<AxesSubplot:title={'center':'Sex'}>"
      ]
     },
     "execution_count": 5,
     "metadata": {},
     "output_type": "execute_result"
    },
    {
     "data": {
      "image/png": "[encoded data removed]",
      "text/plain": [
       "<Figure size 640x480 with 1 Axes>"
      ]
     },
     "metadata": {},
     "output_type": "display_data"
    }
   ],
   "source": [
    "df['Sex'].value_counts().plot(kind='bar', title='Sex')"
   ]
  },
  {
   "cell_type": "markdown",
   "id": "0c2347a5",
   "metadata": {},
   "source": [
    "We can infer here that majority of people were male"
   ]
  },
  {
   "cell_type": "code",
   "execution_count": 6,
   "id": "b69cd6b3",
   "metadata": {
    "scrolled": true
   },
   "outputs": [
    {
     "data": {
      "text/plain": [
       "<AxesSubplot:xlabel='Pclass', ylabel='count'>"
      ]
     },
     "execution_count": 6,
     "metadata": {},
     "output_type": "execute_result"
    },
    {
     "data": {
      "image/png": "[encoded data removed]",
      "text/plain": [
       "<Figure size 640x480 with 1 Axes>"
      ]
     },
     "metadata": {},
     "output_type": "display_data"
    }
   ],
   "source": [
    "sns.countplot(df[\"Pclass\"])"
   ]
  },
  {
   "cell_type": "markdown",
   "id": "0ccd6aab",
   "metadata": {},
   "source": [
    "We can infer here that most people were in 3rd class followed by 1st class and 2nd class."
   ]
  },
  {
   "cell_type": "code",
   "execution_count": 7,
   "id": "b753dbdc",
   "metadata": {
    "scrolled": false
   },
   "outputs": [
    {
     "data": {
      "text/plain": [
       "<AxesSubplot:xlabel='Pclass', ylabel='Survived'>"
      ]
     },
     "execution_count": 7,
     "metadata": {},
     "output_type": "execute_result"
    },
    {
     "data": {
      "image/png": "[encoded data removed]",
      "text/plain": [
       "<Figure size 640x480 with 1 Axes>"
      ]
     },
     "metadata": {},
     "output_type": "display_data"
    }
   ],
   "source": [
    "sns.barplot(x='Pclass',y='Survived',hue='Sex',data=df)"
   ]
  },
  {
   "cell_type": "markdown",
   "id": "ffa77415",
   "metadata": {},
   "source": [
    "We can infer here that in all the classes female survival rate is much higher than male survival rate and in all the three classes least males have survived in 3rd class."
   ]
  },
  {
   "cell_type": "code",
   "execution_count": 8,
   "id": "582c728d",
   "metadata": {
    "scrolled": true
   },
   "outputs": [
    {
     "data": {
      "text/plain": [
       "<AxesSubplot:xlabel='Age', ylabel='Count'>"
      ]
     },
     "execution_count": 8,
     "metadata": {},
     "output_type": "execute_result"
    },
    {
     "data": {
      "image/png": "[encoded data removed]",
      "text/plain": [
       "<Figure size 640x480 with 1 Axes>"
      ]
     },
     "metadata": {},
     "output_type": "display_data"
    }
   ],
   "source": [
    "sns.histplot(df[\"Age\"])"
   ]
  },
  {
   "cell_type": "markdown",
   "id": "888c12ad",
   "metadata": {},
   "source": [
    "We can infer here that maximum people were of the age group 15-35"
   ]
  },
  {
   "cell_type": "code",
   "execution_count": 9,
   "id": "c58db166",
   "metadata": {},
   "outputs": [
    {
     "data": {
      "image/png": "[encoded data removed]",
      "text/plain": [
       "<Figure size 640x480 with 1 Axes>"
      ]
     },
     "metadata": {},
     "output_type": "display_data"
    }
   ],
   "source": [
    "age_survived=df[df['Survived']==1]['Age']\n",
    "age_not_survived = df[df['Survived'] == 0]['Age']\n",
    "max_age=max(df['Age'])\n",
    "\n",
    "plt.hist([age_survived,age_not_survived],bins=8,range=(1, max_age),stacked=True)\n",
    "plt.title('Survivors by Age')\n",
    "plt.xlabel('Ages')\n",
    "plt.ylabel('Count')\n",
    "plt.legend(('Died', 'Survived'), loc='best')\n",
    "plt.show()"
   ]
  },
  {
   "cell_type": "code",
   "execution_count": 10,
   "id": "68a41303",
   "metadata": {},
   "outputs": [
    {
     "data": {
      "text/plain": [
       "PassengerId      int64\n",
       "Survived         int64\n",
       "Pclass           int64\n",
       "Name            object\n",
       "Sex             object\n",
       "Age            float64\n",
       "SibSp            int64\n",
       "Parch            int64\n",
       "Ticket          object\n",
       "Fare           float64\n",
       "Cabin           object\n",
       "Embarked        object\n",
       "dtype: object"
      ]
     },
     "execution_count": 10,
     "metadata": {},
     "output_type": "execute_result"
    }
   ],
   "source": [
    "df.dtypes"
   ]
  },
  {
   "cell_type": "code",
   "execution_count": 11,
   "id": "43a1b3f8",
   "metadata": {
    "scrolled": true
   },
   "outputs": [
    {
     "data": {
      "text/plain": [
       "PassengerId      0\n",
       "Survived         0\n",
       "Pclass           0\n",
       "Name             0\n",
       "Sex              0\n",
       "Age            177\n",
       "SibSp            0\n",
       "Parch            0\n",
       "Ticket           0\n",
       "Fare             0\n",
       "Cabin          687\n",
       "Embarked         2\n",
       "dtype: int64"
      ]
     },
     "execution_count": 11,
     "metadata": {},
     "output_type": "execute_result"
    }
   ],
   "source": [
    "df.isnull().sum()"
   ]
  },
  {
   "cell_type": "markdown",
   "id": "848d0130",
   "metadata": {},
   "source": [
    "Age cloumn has null values, we will use median of age column to replace null values. The median will be taken according to their sex and passenger class."
   ]
  },
  {
   "cell_type": "code",
   "execution_count": 12,
   "id": "08f21593",
   "metadata": {},
   "outputs": [],
   "source": [
    "df['Age']=df['Age'].groupby([df['Sex'],df['Pclass']]).apply(lambda x: x.fillna(x.median()))"
   ]
  },
  {
   "cell_type": "code",
   "execution_count": 13,
   "id": "5fd71985",
   "metadata": {},
   "outputs": [
    {
     "data": {
      "text/plain": [
       "0      22.0\n",
       "1      38.0\n",
       "2      26.0\n",
       "3      35.0\n",
       "4      35.0\n",
       "       ... \n",
       "886    27.0\n",
       "887    19.0\n",
       "888    21.5\n",
       "889    26.0\n",
       "890    32.0\n",
       "Name: Age, Length: 891, dtype: float64"
      ]
     },
     "execution_count": 13,
     "metadata": {},
     "output_type": "execute_result"
    }
   ],
   "source": [
    "df[\"Age\"]"
   ]
  },
  {
   "cell_type": "markdown",
   "id": "0b3fb6fb",
   "metadata": {},
   "source": [
    "Cabin column has a lot of null values which can not be filled and has no impact on the output, so we will drop Cabin column"
   ]
  },
  {
   "cell_type": "code",
   "execution_count": 14,
   "id": "5c51f741",
   "metadata": {},
   "outputs": [
    {
     "data": {
      "text/plain": [
       "147"
      ]
     },
     "execution_count": 14,
     "metadata": {},
     "output_type": "execute_result"
    }
   ],
   "source": [
    "df[\"Cabin\"].nunique()"
   ]
  },
  {
   "cell_type": "code",
   "execution_count": 15,
   "id": "6cdec33c",
   "metadata": {},
   "outputs": [],
   "source": [
    "df.drop([\"Cabin\"],axis=1, inplace=True)"
   ]
  },
  {
   "cell_type": "markdown",
   "id": "0d41b9c4",
   "metadata": {},
   "source": [
    "Now only Embarked column has two null values so we will remove the rows which have null values."
   ]
  },
  {
   "cell_type": "code",
   "execution_count": 16,
   "id": "4d722662",
   "metadata": {},
   "outputs": [],
   "source": [
    "df.dropna(inplace=True)"
   ]
  },
  {
   "cell_type": "code",
   "execution_count": 17,
   "id": "ac785b9e",
   "metadata": {},
   "outputs": [
    {
     "data": {
      "text/plain": [
       "PassengerId    0\n",
       "Survived       0\n",
       "Pclass         0\n",
       "Name           0\n",
       "Sex            0\n",
       "Age            0\n",
       "SibSp          0\n",
       "Parch          0\n",
       "Ticket         0\n",
       "Fare           0\n",
       "Embarked       0\n",
       "dtype: int64"
      ]
     },
     "execution_count": 17,
     "metadata": {},
     "output_type": "execute_result"
    }
   ],
   "source": [
    "df.isnull().sum()"
   ]
  },
  {
   "cell_type": "markdown",
   "id": "9ceaa860",
   "metadata": {},
   "source": [
    "Encoding the data--- Changing categorical columns - Sex, Pclass and Embarked to binary values using one hot encoder"
   ]
  },
  {
   "cell_type": "code",
   "execution_count": 18,
   "id": "2552b813",
   "metadata": {
    "scrolled": true
   },
   "outputs": [
    {
     "data": {
      "text/html": [
       "<div>\n",
       "<style scoped>\n",
       "    .dataframe tbody tr th:only-of-type {\n",
       "        vertical-align: middle;\n",
       "    }\n",
       "\n",
       "    .dataframe tbody tr th {\n",
       "        vertical-align: top;\n",
       "    }\n",
       "\n",
       "    .dataframe thead th {\n",
       "        text-align: right;\n",
       "    }\n",
       "</style>\n",
       "<table border=\"1\" class=\"dataframe\">\n",
       "  <thead>\n",
       "    <tr style=\"text-align: right;\">\n",
       "      <th></th>\n",
       "      <th>PassengerId</th>\n",
       "      <th>Survived</th>\n",
       "      <th>Pclass</th>\n",
       "      <th>Name</th>\n",
       "      <th>Sex</th>\n",
       "      <th>Age</th>\n",
       "      <th>SibSp</th>\n",
       "      <th>Parch</th>\n",
       "      <th>Ticket</th>\n",
       "      <th>Fare</th>\n",
       "      <th>Embarked</th>\n",
       "      <th>C</th>\n",
       "      <th>Q</th>\n",
       "      <th>S</th>\n",
       "      <th>female</th>\n",
       "      <th>male</th>\n",
       "      <th>1</th>\n",
       "      <th>2</th>\n",
       "      <th>3</th>\n",
       "    </tr>\n",
       "  </thead>\n",
       "  <tbody>\n",
       "    <tr>\n",
       "      <th>0</th>\n",
       "      <td>1.0</td>\n",
       "      <td>0.0</td>\n",
       "      <td>3.0</td>\n",
       "      <td>Braund, Mr. Owen Harris</td>\n",
       "      <td>male</td>\n",
       "      <td>22.0</td>\n",
       "      <td>1.0</td>\n",
       "      <td>0.0</td>\n",
       "      <td>A/5 21171</td>\n",
       "      <td>7.2500</td>\n",
       "      <td>S</td>\n",
       "      <td>0.0</td>\n",
       "      <td>0.0</td>\n",
       "      <td>1.0</td>\n",
       "      <td>0.0</td>\n",
       "      <td>1.0</td>\n",
       "      <td>0.0</td>\n",
       "      <td>0.0</td>\n",
       "      <td>1.0</td>\n",
       "    </tr>\n",
       "    <tr>\n",
       "      <th>1</th>\n",
       "      <td>2.0</td>\n",
       "      <td>1.0</td>\n",
       "      <td>1.0</td>\n",
       "      <td>Cumings, Mrs. John Bradley (Florence Briggs Th...</td>\n",
       "      <td>female</td>\n",
       "      <td>38.0</td>\n",
       "      <td>1.0</td>\n",
       "      <td>0.0</td>\n",
       "      <td>PC 17599</td>\n",
       "      <td>71.2833</td>\n",
       "      <td>C</td>\n",
       "      <td>1.0</td>\n",
       "      <td>0.0</td>\n",
       "      <td>0.0</td>\n",
       "      <td>1.0</td>\n",
       "      <td>0.0</td>\n",
       "      <td>1.0</td>\n",
       "      <td>0.0</td>\n",
       "      <td>0.0</td>\n",
       "    </tr>\n",
       "    <tr>\n",
       "      <th>2</th>\n",
       "      <td>3.0</td>\n",
       "      <td>1.0</td>\n",
       "      <td>3.0</td>\n",
       "      <td>Heikkinen, Miss. Laina</td>\n",
       "      <td>female</td>\n",
       "      <td>26.0</td>\n",
       "      <td>0.0</td>\n",
       "      <td>0.0</td>\n",
       "      <td>STON/O2. 3101282</td>\n",
       "      <td>7.9250</td>\n",
       "      <td>S</td>\n",
       "      <td>0.0</td>\n",
       "      <td>0.0</td>\n",
       "      <td>1.0</td>\n",
       "      <td>1.0</td>\n",
       "      <td>0.0</td>\n",
       "      <td>0.0</td>\n",
       "      <td>0.0</td>\n",
       "      <td>1.0</td>\n",
       "    </tr>\n",
       "    <tr>\n",
       "      <th>3</th>\n",
       "      <td>4.0</td>\n",
       "      <td>1.0</td>\n",
       "      <td>1.0</td>\n",
       "      <td>Futrelle, Mrs. Jacques Heath (Lily May Peel)</td>\n",
       "      <td>female</td>\n",
       "      <td>35.0</td>\n",
       "      <td>1.0</td>\n",
       "      <td>0.0</td>\n",
       "      <td>113803</td>\n",
       "      <td>53.1000</td>\n",
       "      <td>S</td>\n",
       "      <td>0.0</td>\n",
       "      <td>0.0</td>\n",
       "      <td>1.0</td>\n",
       "      <td>1.0</td>\n",
       "      <td>0.0</td>\n",
       "      <td>1.0</td>\n",
       "      <td>0.0</td>\n",
       "      <td>0.0</td>\n",
       "    </tr>\n",
       "    <tr>\n",
       "      <th>4</th>\n",
       "      <td>5.0</td>\n",
       "      <td>0.0</td>\n",
       "      <td>3.0</td>\n",
       "      <td>Allen, Mr. William Henry</td>\n",
       "      <td>male</td>\n",
       "      <td>35.0</td>\n",
       "      <td>0.0</td>\n",
       "      <td>0.0</td>\n",
       "      <td>373450</td>\n",
       "      <td>8.0500</td>\n",
       "      <td>S</td>\n",
       "      <td>0.0</td>\n",
       "      <td>0.0</td>\n",
       "      <td>1.0</td>\n",
       "      <td>0.0</td>\n",
       "      <td>1.0</td>\n",
       "      <td>0.0</td>\n",
       "      <td>0.0</td>\n",
       "      <td>1.0</td>\n",
       "    </tr>\n",
       "    <tr>\n",
       "      <th>...</th>\n",
       "      <td>...</td>\n",
       "      <td>...</td>\n",
       "      <td>...</td>\n",
       "      <td>...</td>\n",
       "      <td>...</td>\n",
       "      <td>...</td>\n",
       "      <td>...</td>\n",
       "      <td>...</td>\n",
       "      <td>...</td>\n",
       "      <td>...</td>\n",
       "      <td>...</td>\n",
       "      <td>...</td>\n",
       "      <td>...</td>\n",
       "      <td>...</td>\n",
       "      <td>...</td>\n",
       "      <td>...</td>\n",
       "      <td>...</td>\n",
       "      <td>...</td>\n",
       "      <td>...</td>\n",
       "    </tr>\n",
       "    <tr>\n",
       "      <th>888</th>\n",
       "      <td>889.0</td>\n",
       "      <td>0.0</td>\n",
       "      <td>3.0</td>\n",
       "      <td>Johnston, Miss. Catherine Helen \"Carrie\"</td>\n",
       "      <td>female</td>\n",
       "      <td>21.5</td>\n",
       "      <td>1.0</td>\n",
       "      <td>2.0</td>\n",
       "      <td>W./C. 6607</td>\n",
       "      <td>23.4500</td>\n",
       "      <td>S</td>\n",
       "      <td>0.0</td>\n",
       "      <td>1.0</td>\n",
       "      <td>0.0</td>\n",
       "      <td>0.0</td>\n",
       "      <td>1.0</td>\n",
       "      <td>0.0</td>\n",
       "      <td>0.0</td>\n",
       "      <td>1.0</td>\n",
       "    </tr>\n",
       "    <tr>\n",
       "      <th>889</th>\n",
       "      <td>890.0</td>\n",
       "      <td>1.0</td>\n",
       "      <td>1.0</td>\n",
       "      <td>Behr, Mr. Karl Howell</td>\n",
       "      <td>male</td>\n",
       "      <td>26.0</td>\n",
       "      <td>0.0</td>\n",
       "      <td>0.0</td>\n",
       "      <td>111369</td>\n",
       "      <td>30.0000</td>\n",
       "      <td>C</td>\n",
       "      <td>NaN</td>\n",
       "      <td>NaN</td>\n",
       "      <td>NaN</td>\n",
       "      <td>NaN</td>\n",
       "      <td>NaN</td>\n",
       "      <td>NaN</td>\n",
       "      <td>NaN</td>\n",
       "      <td>NaN</td>\n",
       "    </tr>\n",
       "    <tr>\n",
       "      <th>890</th>\n",
       "      <td>891.0</td>\n",
       "      <td>0.0</td>\n",
       "      <td>3.0</td>\n",
       "      <td>Dooley, Mr. Patrick</td>\n",
       "      <td>male</td>\n",
       "      <td>32.0</td>\n",
       "      <td>0.0</td>\n",
       "      <td>0.0</td>\n",
       "      <td>370376</td>\n",
       "      <td>7.7500</td>\n",
       "      <td>Q</td>\n",
       "      <td>NaN</td>\n",
       "      <td>NaN</td>\n",
       "      <td>NaN</td>\n",
       "      <td>NaN</td>\n",
       "      <td>NaN</td>\n",
       "      <td>NaN</td>\n",
       "      <td>NaN</td>\n",
       "      <td>NaN</td>\n",
       "    </tr>\n",
       "    <tr>\n",
       "      <th>61</th>\n",
       "      <td>NaN</td>\n",
       "      <td>NaN</td>\n",
       "      <td>NaN</td>\n",
       "      <td>NaN</td>\n",
       "      <td>NaN</td>\n",
       "      <td>NaN</td>\n",
       "      <td>NaN</td>\n",
       "      <td>NaN</td>\n",
       "      <td>NaN</td>\n",
       "      <td>NaN</td>\n",
       "      <td>NaN</td>\n",
       "      <td>0.0</td>\n",
       "      <td>0.0</td>\n",
       "      <td>1.0</td>\n",
       "      <td>0.0</td>\n",
       "      <td>1.0</td>\n",
       "      <td>1.0</td>\n",
       "      <td>0.0</td>\n",
       "      <td>0.0</td>\n",
       "    </tr>\n",
       "    <tr>\n",
       "      <th>829</th>\n",
       "      <td>NaN</td>\n",
       "      <td>NaN</td>\n",
       "      <td>NaN</td>\n",
       "      <td>NaN</td>\n",
       "      <td>NaN</td>\n",
       "      <td>NaN</td>\n",
       "      <td>NaN</td>\n",
       "      <td>NaN</td>\n",
       "      <td>NaN</td>\n",
       "      <td>NaN</td>\n",
       "      <td>NaN</td>\n",
       "      <td>0.0</td>\n",
       "      <td>0.0</td>\n",
       "      <td>1.0</td>\n",
       "      <td>0.0</td>\n",
       "      <td>1.0</td>\n",
       "      <td>0.0</td>\n",
       "      <td>1.0</td>\n",
       "      <td>0.0</td>\n",
       "    </tr>\n",
       "  </tbody>\n",
       "</table>\n",
       "<p>891 rows × 19 columns</p>\n",
       "</div>"
      ],
      "text/plain": [
       "     PassengerId  Survived  Pclass  \\\n",
       "0            1.0       0.0     3.0   \n",
       "1            2.0       1.0     1.0   \n",
       "2            3.0       1.0     3.0   \n",
       "3            4.0       1.0     1.0   \n",
       "4            5.0       0.0     3.0   \n",
       "..           ...       ...     ...   \n",
       "888        889.0       0.0     3.0   \n",
       "889        890.0       1.0     1.0   \n",
       "890        891.0       0.0     3.0   \n",
       "61           NaN       NaN     NaN   \n",
       "829          NaN       NaN     NaN   \n",
       "\n",
       "                                                  Name     Sex   Age  SibSp  \\\n",
       "0                              Braund, Mr. Owen Harris    male  22.0    1.0   \n",
       "1    Cumings, Mrs. John Bradley (Florence Briggs Th...  female  38.0    1.0   \n",
       "2                               Heikkinen, Miss. Laina  female  26.0    0.0   \n",
       "3         Futrelle, Mrs. Jacques Heath (Lily May Peel)  female  35.0    1.0   \n",
       "4                             Allen, Mr. William Henry    male  35.0    0.0   \n",
       "..                                                 ...     ...   ...    ...   \n",
       "888           Johnston, Miss. Catherine Helen \"Carrie\"  female  21.5    1.0   \n",
       "889                              Behr, Mr. Karl Howell    male  26.0    0.0   \n",
       "890                                Dooley, Mr. Patrick    male  32.0    0.0   \n",
       "61                                                 NaN     NaN   NaN    NaN   \n",
       "829                                                NaN     NaN   NaN    NaN   \n",
       "\n",
       "     Parch            Ticket     Fare Embarked    C    Q    S  female  male  \\\n",
       "0      0.0         A/5 21171   7.2500        S  0.0  0.0  1.0     0.0   1.0   \n",
       "1      0.0          PC 17599  71.2833        C  1.0  0.0  0.0     1.0   0.0   \n",
       "2      0.0  STON/O2. 3101282   7.9250        S  0.0  0.0  1.0     1.0   0.0   \n",
       "3      0.0            113803  53.1000        S  0.0  0.0  1.0     1.0   0.0   \n",
       "4      0.0            373450   8.0500        S  0.0  0.0  1.0     0.0   1.0   \n",
       "..     ...               ...      ...      ...  ...  ...  ...     ...   ...   \n",
       "888    2.0        W./C. 6607  23.4500        S  0.0  1.0  0.0     0.0   1.0   \n",
       "889    0.0            111369  30.0000        C  NaN  NaN  NaN     NaN   NaN   \n",
       "890    0.0            370376   7.7500        Q  NaN  NaN  NaN     NaN   NaN   \n",
       "61     NaN               NaN      NaN      NaN  0.0  0.0  1.0     0.0   1.0   \n",
       "829    NaN               NaN      NaN      NaN  0.0  0.0  1.0     0.0   1.0   \n",
       "\n",
       "       1    2    3  \n",
       "0    0.0  0.0  1.0  \n",
       "1    1.0  0.0  0.0  \n",
       "2    0.0  0.0  1.0  \n",
       "3    1.0  0.0  0.0  \n",
       "4    0.0  0.0  1.0  \n",
       "..   ...  ...  ...  \n",
       "888  0.0  0.0  1.0  \n",
       "889  NaN  NaN  NaN  \n",
       "890  NaN  NaN  NaN  \n",
       "61   1.0  0.0  0.0  \n",
       "829  0.0  1.0  0.0  \n",
       "\n",
       "[891 rows x 19 columns]"
      ]
     },
     "execution_count": 18,
     "metadata": {},
     "output_type": "execute_result"
    }
   ],
   "source": [
    "ohe=OneHotEncoder()\n",
    "x=df[[\"Embarked\",\"Sex\",\"Pclass\"]].values\n",
    "x=ohe.fit_transform(x).toarray()\n",
    "y=z=np.hstack(ohe.categories_)\n",
    "merge= pd.DataFrame(data=x,columns=y)\n",
    "df_n=pd.concat([df,merge],axis=1)\n",
    "df_n"
   ]
  },
  {
   "cell_type": "markdown",
   "id": "a2b7044e",
   "metadata": {},
   "source": [
    "Creating a final dataframe for machine learning removing all the unnecessary columns and whose attributes are already present."
   ]
  },
  {
   "cell_type": "code",
   "execution_count": 19,
   "id": "bcd793b8",
   "metadata": {},
   "outputs": [],
   "source": [
    "df_n.drop([\"PassengerId\",\"Pclass\",\"Name\",\"Sex\",\"Ticket\",\"Embarked\",\"C\",\"female\",2] ,axis=1, inplace=True)"
   ]
  },
  {
   "cell_type": "code",
   "execution_count": 20,
   "id": "955795b2",
   "metadata": {},
   "outputs": [],
   "source": [
    "df_n.dropna(inplace=True)"
   ]
  },
  {
   "cell_type": "code",
   "execution_count": 21,
   "id": "b337f42a",
   "metadata": {},
   "outputs": [
    {
     "data": {
      "text/html": [
       "<div>\n",
       "<style scoped>\n",
       "    .dataframe tbody tr th:only-of-type {\n",
       "        vertical-align: middle;\n",
       "    }\n",
       "\n",
       "    .dataframe tbody tr th {\n",
       "        vertical-align: top;\n",
       "    }\n",
       "\n",
       "    .dataframe thead th {\n",
       "        text-align: right;\n",
       "    }\n",
       "</style>\n",
       "<table border=\"1\" class=\"dataframe\">\n",
       "  <thead>\n",
       "    <tr style=\"text-align: right;\">\n",
       "      <th></th>\n",
       "      <th>Survived</th>\n",
       "      <th>Age</th>\n",
       "      <th>SibSp</th>\n",
       "      <th>Parch</th>\n",
       "      <th>Fare</th>\n",
       "      <th>Q</th>\n",
       "      <th>S</th>\n",
       "      <th>male</th>\n",
       "      <th>1</th>\n",
       "      <th>3</th>\n",
       "    </tr>\n",
       "  </thead>\n",
       "  <tbody>\n",
       "    <tr>\n",
       "      <th>0</th>\n",
       "      <td>0.0</td>\n",
       "      <td>22.0</td>\n",
       "      <td>1.0</td>\n",
       "      <td>0.0</td>\n",
       "      <td>7.2500</td>\n",
       "      <td>0.0</td>\n",
       "      <td>1.0</td>\n",
       "      <td>1.0</td>\n",
       "      <td>0.0</td>\n",
       "      <td>1.0</td>\n",
       "    </tr>\n",
       "    <tr>\n",
       "      <th>1</th>\n",
       "      <td>1.0</td>\n",
       "      <td>38.0</td>\n",
       "      <td>1.0</td>\n",
       "      <td>0.0</td>\n",
       "      <td>71.2833</td>\n",
       "      <td>0.0</td>\n",
       "      <td>0.0</td>\n",
       "      <td>0.0</td>\n",
       "      <td>1.0</td>\n",
       "      <td>0.0</td>\n",
       "    </tr>\n",
       "    <tr>\n",
       "      <th>2</th>\n",
       "      <td>1.0</td>\n",
       "      <td>26.0</td>\n",
       "      <td>0.0</td>\n",
       "      <td>0.0</td>\n",
       "      <td>7.9250</td>\n",
       "      <td>0.0</td>\n",
       "      <td>1.0</td>\n",
       "      <td>0.0</td>\n",
       "      <td>0.0</td>\n",
       "      <td>1.0</td>\n",
       "    </tr>\n",
       "    <tr>\n",
       "      <th>3</th>\n",
       "      <td>1.0</td>\n",
       "      <td>35.0</td>\n",
       "      <td>1.0</td>\n",
       "      <td>0.0</td>\n",
       "      <td>53.1000</td>\n",
       "      <td>0.0</td>\n",
       "      <td>1.0</td>\n",
       "      <td>0.0</td>\n",
       "      <td>1.0</td>\n",
       "      <td>0.0</td>\n",
       "    </tr>\n",
       "    <tr>\n",
       "      <th>4</th>\n",
       "      <td>0.0</td>\n",
       "      <td>35.0</td>\n",
       "      <td>0.0</td>\n",
       "      <td>0.0</td>\n",
       "      <td>8.0500</td>\n",
       "      <td>0.0</td>\n",
       "      <td>1.0</td>\n",
       "      <td>1.0</td>\n",
       "      <td>0.0</td>\n",
       "      <td>1.0</td>\n",
       "    </tr>\n",
       "    <tr>\n",
       "      <th>...</th>\n",
       "      <td>...</td>\n",
       "      <td>...</td>\n",
       "      <td>...</td>\n",
       "      <td>...</td>\n",
       "      <td>...</td>\n",
       "      <td>...</td>\n",
       "      <td>...</td>\n",
       "      <td>...</td>\n",
       "      <td>...</td>\n",
       "      <td>...</td>\n",
       "    </tr>\n",
       "    <tr>\n",
       "      <th>884</th>\n",
       "      <td>0.0</td>\n",
       "      <td>25.0</td>\n",
       "      <td>0.0</td>\n",
       "      <td>0.0</td>\n",
       "      <td>7.0500</td>\n",
       "      <td>0.0</td>\n",
       "      <td>1.0</td>\n",
       "      <td>1.0</td>\n",
       "      <td>0.0</td>\n",
       "      <td>0.0</td>\n",
       "    </tr>\n",
       "    <tr>\n",
       "      <th>885</th>\n",
       "      <td>0.0</td>\n",
       "      <td>39.0</td>\n",
       "      <td>0.0</td>\n",
       "      <td>5.0</td>\n",
       "      <td>29.1250</td>\n",
       "      <td>0.0</td>\n",
       "      <td>1.0</td>\n",
       "      <td>0.0</td>\n",
       "      <td>1.0</td>\n",
       "      <td>0.0</td>\n",
       "    </tr>\n",
       "    <tr>\n",
       "      <th>886</th>\n",
       "      <td>0.0</td>\n",
       "      <td>27.0</td>\n",
       "      <td>0.0</td>\n",
       "      <td>0.0</td>\n",
       "      <td>13.0000</td>\n",
       "      <td>0.0</td>\n",
       "      <td>1.0</td>\n",
       "      <td>0.0</td>\n",
       "      <td>0.0</td>\n",
       "      <td>1.0</td>\n",
       "    </tr>\n",
       "    <tr>\n",
       "      <th>887</th>\n",
       "      <td>1.0</td>\n",
       "      <td>19.0</td>\n",
       "      <td>0.0</td>\n",
       "      <td>0.0</td>\n",
       "      <td>30.0000</td>\n",
       "      <td>0.0</td>\n",
       "      <td>0.0</td>\n",
       "      <td>1.0</td>\n",
       "      <td>1.0</td>\n",
       "      <td>0.0</td>\n",
       "    </tr>\n",
       "    <tr>\n",
       "      <th>888</th>\n",
       "      <td>0.0</td>\n",
       "      <td>21.5</td>\n",
       "      <td>1.0</td>\n",
       "      <td>2.0</td>\n",
       "      <td>23.4500</td>\n",
       "      <td>1.0</td>\n",
       "      <td>0.0</td>\n",
       "      <td>1.0</td>\n",
       "      <td>0.0</td>\n",
       "      <td>1.0</td>\n",
       "    </tr>\n",
       "  </tbody>\n",
       "</table>\n",
       "<p>887 rows × 10 columns</p>\n",
       "</div>"
      ],
      "text/plain": [
       "     Survived   Age  SibSp  Parch     Fare    Q    S  male    1    3\n",
       "0         0.0  22.0    1.0    0.0   7.2500  0.0  1.0   1.0  0.0  1.0\n",
       "1         1.0  38.0    1.0    0.0  71.2833  0.0  0.0   0.0  1.0  0.0\n",
       "2         1.0  26.0    0.0    0.0   7.9250  0.0  1.0   0.0  0.0  1.0\n",
       "3         1.0  35.0    1.0    0.0  53.1000  0.0  1.0   0.0  1.0  0.0\n",
       "4         0.0  35.0    0.0    0.0   8.0500  0.0  1.0   1.0  0.0  1.0\n",
       "..        ...   ...    ...    ...      ...  ...  ...   ...  ...  ...\n",
       "884       0.0  25.0    0.0    0.0   7.0500  0.0  1.0   1.0  0.0  0.0\n",
       "885       0.0  39.0    0.0    5.0  29.1250  0.0  1.0   0.0  1.0  0.0\n",
       "886       0.0  27.0    0.0    0.0  13.0000  0.0  1.0   0.0  0.0  1.0\n",
       "887       1.0  19.0    0.0    0.0  30.0000  0.0  0.0   1.0  1.0  0.0\n",
       "888       0.0  21.5    1.0    2.0  23.4500  1.0  0.0   1.0  0.0  1.0\n",
       "\n",
       "[887 rows x 10 columns]"
      ]
     },
     "execution_count": 21,
     "metadata": {},
     "output_type": "execute_result"
    }
   ],
   "source": [
    "df_n"
   ]
  },
  {
   "cell_type": "code",
   "execution_count": 22,
   "id": "b9ca77ff",
   "metadata": {
    "scrolled": true
   },
   "outputs": [
    {
     "data": {
      "text/plain": [
       "Survived    0\n",
       "Age         0\n",
       "SibSp       0\n",
       "Parch       0\n",
       "Fare        0\n",
       "Q           0\n",
       "S           0\n",
       "male        0\n",
       "1           0\n",
       "3           0\n",
       "dtype: int64"
      ]
     },
     "execution_count": 22,
     "metadata": {},
     "output_type": "execute_result"
    }
   ],
   "source": [
    "df_n.isnull().sum()"
   ]
  },
  {
   "cell_type": "code",
   "execution_count": 23,
   "id": "103e28ea",
   "metadata": {},
   "outputs": [
    {
     "data": {
      "text/plain": [
       "Survived    float64\n",
       "Age         float64\n",
       "SibSp       float64\n",
       "Parch       float64\n",
       "Fare        float64\n",
       "Q           float64\n",
       "S           float64\n",
       "male        float64\n",
       "1           float64\n",
       "3           float64\n",
       "dtype: object"
      ]
     },
     "execution_count": 23,
     "metadata": {},
     "output_type": "execute_result"
    }
   ],
   "source": [
    "df_n.dtypes"
   ]
  },
  {
   "cell_type": "markdown",
   "id": "af69d22d",
   "metadata": {},
   "source": [
    "As all the values in the final Dataframe is in float, no need to remove any empty spaces"
   ]
  },
  {
   "cell_type": "markdown",
   "id": "fb11ea16",
   "metadata": {},
   "source": [
    "Removing Outliers"
   ]
  },
  {
   "cell_type": "code",
   "execution_count": 24,
   "id": "d7981d78",
   "metadata": {},
   "outputs": [
    {
     "data": {
      "text/html": [
       "<div>\n",
       "<style scoped>\n",
       "    .dataframe tbody tr th:only-of-type {\n",
       "        vertical-align: middle;\n",
       "    }\n",
       "\n",
       "    .dataframe tbody tr th {\n",
       "        vertical-align: top;\n",
       "    }\n",
       "\n",
       "    .dataframe thead th {\n",
       "        text-align: right;\n",
       "    }\n",
       "</style>\n",
       "<table border=\"1\" class=\"dataframe\">\n",
       "  <thead>\n",
       "    <tr style=\"text-align: right;\">\n",
       "      <th></th>\n",
       "      <th>Survived</th>\n",
       "      <th>Age</th>\n",
       "      <th>SibSp</th>\n",
       "      <th>Parch</th>\n",
       "      <th>Fare</th>\n",
       "      <th>Q</th>\n",
       "      <th>S</th>\n",
       "      <th>male</th>\n",
       "      <th>1</th>\n",
       "      <th>3</th>\n",
       "    </tr>\n",
       "  </thead>\n",
       "  <tbody>\n",
       "    <tr>\n",
       "      <th>0</th>\n",
       "      <td>0.0</td>\n",
       "      <td>22.0</td>\n",
       "      <td>1.0</td>\n",
       "      <td>0.0</td>\n",
       "      <td>7.2500</td>\n",
       "      <td>0.0</td>\n",
       "      <td>1.0</td>\n",
       "      <td>1.0</td>\n",
       "      <td>0.0</td>\n",
       "      <td>1.0</td>\n",
       "    </tr>\n",
       "    <tr>\n",
       "      <th>1</th>\n",
       "      <td>1.0</td>\n",
       "      <td>38.0</td>\n",
       "      <td>1.0</td>\n",
       "      <td>0.0</td>\n",
       "      <td>71.2833</td>\n",
       "      <td>0.0</td>\n",
       "      <td>0.0</td>\n",
       "      <td>0.0</td>\n",
       "      <td>1.0</td>\n",
       "      <td>0.0</td>\n",
       "    </tr>\n",
       "    <tr>\n",
       "      <th>2</th>\n",
       "      <td>1.0</td>\n",
       "      <td>26.0</td>\n",
       "      <td>0.0</td>\n",
       "      <td>0.0</td>\n",
       "      <td>7.9250</td>\n",
       "      <td>0.0</td>\n",
       "      <td>1.0</td>\n",
       "      <td>0.0</td>\n",
       "      <td>0.0</td>\n",
       "      <td>1.0</td>\n",
       "    </tr>\n",
       "    <tr>\n",
       "      <th>3</th>\n",
       "      <td>1.0</td>\n",
       "      <td>35.0</td>\n",
       "      <td>1.0</td>\n",
       "      <td>0.0</td>\n",
       "      <td>53.1000</td>\n",
       "      <td>0.0</td>\n",
       "      <td>1.0</td>\n",
       "      <td>0.0</td>\n",
       "      <td>1.0</td>\n",
       "      <td>0.0</td>\n",
       "    </tr>\n",
       "    <tr>\n",
       "      <th>4</th>\n",
       "      <td>0.0</td>\n",
       "      <td>35.0</td>\n",
       "      <td>0.0</td>\n",
       "      <td>0.0</td>\n",
       "      <td>8.0500</td>\n",
       "      <td>0.0</td>\n",
       "      <td>1.0</td>\n",
       "      <td>1.0</td>\n",
       "      <td>0.0</td>\n",
       "      <td>1.0</td>\n",
       "    </tr>\n",
       "    <tr>\n",
       "      <th>...</th>\n",
       "      <td>...</td>\n",
       "      <td>...</td>\n",
       "      <td>...</td>\n",
       "      <td>...</td>\n",
       "      <td>...</td>\n",
       "      <td>...</td>\n",
       "      <td>...</td>\n",
       "      <td>...</td>\n",
       "      <td>...</td>\n",
       "      <td>...</td>\n",
       "    </tr>\n",
       "    <tr>\n",
       "      <th>881</th>\n",
       "      <td>0.0</td>\n",
       "      <td>33.0</td>\n",
       "      <td>0.0</td>\n",
       "      <td>0.0</td>\n",
       "      <td>7.8958</td>\n",
       "      <td>0.0</td>\n",
       "      <td>1.0</td>\n",
       "      <td>1.0</td>\n",
       "      <td>0.0</td>\n",
       "      <td>0.0</td>\n",
       "    </tr>\n",
       "    <tr>\n",
       "      <th>882</th>\n",
       "      <td>0.0</td>\n",
       "      <td>22.0</td>\n",
       "      <td>0.0</td>\n",
       "      <td>0.0</td>\n",
       "      <td>10.5167</td>\n",
       "      <td>0.0</td>\n",
       "      <td>1.0</td>\n",
       "      <td>1.0</td>\n",
       "      <td>0.0</td>\n",
       "      <td>1.0</td>\n",
       "    </tr>\n",
       "    <tr>\n",
       "      <th>884</th>\n",
       "      <td>0.0</td>\n",
       "      <td>25.0</td>\n",
       "      <td>0.0</td>\n",
       "      <td>0.0</td>\n",
       "      <td>7.0500</td>\n",
       "      <td>0.0</td>\n",
       "      <td>1.0</td>\n",
       "      <td>1.0</td>\n",
       "      <td>0.0</td>\n",
       "      <td>0.0</td>\n",
       "    </tr>\n",
       "    <tr>\n",
       "      <th>886</th>\n",
       "      <td>0.0</td>\n",
       "      <td>27.0</td>\n",
       "      <td>0.0</td>\n",
       "      <td>0.0</td>\n",
       "      <td>13.0000</td>\n",
       "      <td>0.0</td>\n",
       "      <td>1.0</td>\n",
       "      <td>0.0</td>\n",
       "      <td>0.0</td>\n",
       "      <td>1.0</td>\n",
       "    </tr>\n",
       "    <tr>\n",
       "      <th>887</th>\n",
       "      <td>1.0</td>\n",
       "      <td>19.0</td>\n",
       "      <td>0.0</td>\n",
       "      <td>0.0</td>\n",
       "      <td>30.0000</td>\n",
       "      <td>0.0</td>\n",
       "      <td>0.0</td>\n",
       "      <td>1.0</td>\n",
       "      <td>1.0</td>\n",
       "      <td>0.0</td>\n",
       "    </tr>\n",
       "  </tbody>\n",
       "</table>\n",
       "<p>743 rows × 10 columns</p>\n",
       "</div>"
      ],
      "text/plain": [
       "     Survived   Age  SibSp  Parch     Fare    Q    S  male    1    3\n",
       "0         0.0  22.0    1.0    0.0   7.2500  0.0  1.0   1.0  0.0  1.0\n",
       "1         1.0  38.0    1.0    0.0  71.2833  0.0  0.0   0.0  1.0  0.0\n",
       "2         1.0  26.0    0.0    0.0   7.9250  0.0  1.0   0.0  0.0  1.0\n",
       "3         1.0  35.0    1.0    0.0  53.1000  0.0  1.0   0.0  1.0  0.0\n",
       "4         0.0  35.0    0.0    0.0   8.0500  0.0  1.0   1.0  0.0  1.0\n",
       "..        ...   ...    ...    ...      ...  ...  ...   ...  ...  ...\n",
       "881       0.0  33.0    0.0    0.0   7.8958  0.0  1.0   1.0  0.0  0.0\n",
       "882       0.0  22.0    0.0    0.0  10.5167  0.0  1.0   1.0  0.0  1.0\n",
       "884       0.0  25.0    0.0    0.0   7.0500  0.0  1.0   1.0  0.0  0.0\n",
       "886       0.0  27.0    0.0    0.0  13.0000  0.0  1.0   0.0  0.0  1.0\n",
       "887       1.0  19.0    0.0    0.0  30.0000  0.0  0.0   1.0  1.0  0.0\n",
       "\n",
       "[743 rows x 10 columns]"
      ]
     },
     "execution_count": 24,
     "metadata": {},
     "output_type": "execute_result"
    }
   ],
   "source": [
    "z=np.abs(zscore(df_n))\n",
    "dfn=df_n[(z<3).all(axis=1)]\n",
    "dfn"
   ]
  },
  {
   "cell_type": "markdown",
   "id": "9cdaaeba",
   "metadata": {},
   "source": [
    "887-816=71, SO lost less than 10% of the data while removing outliers which is acceptable"
   ]
  },
  {
   "cell_type": "code",
   "execution_count": 25,
   "id": "345d196f",
   "metadata": {
    "scrolled": false
   },
   "outputs": [
    {
     "data": {
      "text/plain": [
       "Survived    0.485726\n",
       "Age         0.532037\n",
       "SibSp       3.686760\n",
       "Parch       2.741198\n",
       "Fare        4.796347\n",
       "Q           2.940028\n",
       "S          -1.002710\n",
       "male       -0.621985\n",
       "1           1.218755\n",
       "3          -0.215810\n",
       "dtype: float64"
      ]
     },
     "execution_count": 25,
     "metadata": {},
     "output_type": "execute_result"
    }
   ],
   "source": [
    "#Checking skewness\n",
    "df_n.skew()"
   ]
  },
  {
   "cell_type": "code",
   "execution_count": 26,
   "id": "674a75d8",
   "metadata": {},
   "outputs": [],
   "source": [
    "#trans = QuantileTransformer(n_quantiles=100, output_distribution='normal')\n",
    "#dfn1 = trans.fit_transform(dfn)"
   ]
  },
  {
   "cell_type": "markdown",
   "id": "8541c0dc",
   "metadata": {},
   "source": [
    "Applying transformations on columns with skewness more than 0.5 on non categorical columns"
   ]
  },
  {
   "cell_type": "code",
   "execution_count": 27,
   "id": "463a4e20",
   "metadata": {},
   "outputs": [],
   "source": [
    "dfn[\"SibSp\"]=np.cbrt(dfn[\"SibSp\"])\n",
    "dfn[\"Parch\"]=np.cbrt(dfn[\"Parch\"])\n",
    "dfn[\"Fare\"]=np.power(dfn[\"Fare\"],0.25)"
   ]
  },
  {
   "cell_type": "code",
   "execution_count": 28,
   "id": "8cf73776",
   "metadata": {},
   "outputs": [
    {
     "data": {
      "text/plain": [
       "Survived    0.479810\n",
       "Age         0.409213\n",
       "SibSp       0.932833\n",
       "Parch       1.581880\n",
       "Fare        0.086297\n",
       "Q           0.000000\n",
       "S          -1.437181\n",
       "male       -0.636778\n",
       "1           1.066287\n",
       "3          -0.072874\n",
       "dtype: float64"
      ]
     },
     "execution_count": 28,
     "metadata": {},
     "output_type": "execute_result"
    }
   ],
   "source": [
    "dfn.skew()"
   ]
  },
  {
   "cell_type": "markdown",
   "id": "396faa85",
   "metadata": {},
   "source": [
    "Skewness can not be removed anymore so proceeding with the dataset."
   ]
  },
  {
   "cell_type": "code",
   "execution_count": 29,
   "id": "ecc9f141",
   "metadata": {
    "scrolled": true
   },
   "outputs": [
    {
     "data": {
      "text/plain": [
       "<AxesSubplot:>"
      ]
     },
     "execution_count": 29,
     "metadata": {},
     "output_type": "execute_result"
    },
    {
     "data": {
      "image/png": "[encoded data removed]",
      "text/plain": [
       "<Figure size 640x480 with 2 Axes>"
      ]
     },
     "metadata": {},
     "output_type": "display_data"
    }
   ],
   "source": [
    "# To find multicolinearity\n",
    "dfc=dfn.corr()\n",
    "sns.heatmap(dfc, annot= True, linewidths=0.75)"
   ]
  },
  {
   "cell_type": "code",
   "execution_count": 30,
   "id": "d5921d7e",
   "metadata": {},
   "outputs": [
    {
     "name": "stdout",
     "output_type": "stream",
     "text": [
      "   VIF Factor  features\n",
      "0    1.697776  Survived\n",
      "1    4.064714       Age\n",
      "2    1.505831     SibSp\n",
      "3    1.543203     Parch\n",
      "4    1.679666      Fare\n",
      "5    1.306514         Q\n",
      "6    3.542582         S\n",
      "7    2.614765      male\n",
      "8    1.337304         1\n"
     ]
    }
   ],
   "source": [
    "from statsmodels.stats.outliers_influence import variance_inflation_factor\n",
    "vif=pd.DataFrame()\n",
    "vif[\"VIF Factor\"]=[variance_inflation_factor(df_n.iloc[:,:-1].values,i) for i in range(df_n.iloc[:,:-1].shape[1])]\n",
    "vif[\"features\"]=df_n.iloc[:,:-1].columns\n",
    "print(vif)"
   ]
  },
  {
   "cell_type": "markdown",
   "id": "cd692b6c",
   "metadata": {},
   "source": [
    "Dimensionality Reduction-- testing using ANOVA"
   ]
  },
  {
   "cell_type": "code",
   "execution_count": 31,
   "id": "86d49d1a",
   "metadata": {},
   "outputs": [
    {
     "data": {
      "text/plain": [
       "[]"
      ]
     },
     "execution_count": 31,
     "metadata": {},
     "output_type": "execute_result"
    }
   ],
   "source": [
    "a=[]\n",
    "for i in dfn.columns:\n",
    "    for j in dfn.columns:\n",
    "        try:\n",
    "            F, p = stats.f_oneway(dfn[f'{j}'],dfn[f'{i}'])\n",
    "           # print(f\"relation of {j} with {i}\",\"\\n\",\"F =\",F,\"p=\",p)\n",
    "            if p>0.05 and p!=1:\n",
    "                a.append(f\"relation of {j} with {i} F = {F} and p= {p}\")\n",
    "        except:\n",
    "            F, p = stats.f_oneway(dfn[{j}],dfn[{i}])\n",
    "            if p>0.05 and p!=1:\n",
    "                a.append(f\"relation of {j} with {i} F = {F} and p= {p}\")\n",
    "            \n",
    "            #print(f\"relation of {j} with {i}\",\"\\n\",\"F =\",F,\"p=\",p)\n",
    "    \n",
    "            \n",
    "a"
   ]
  },
  {
   "cell_type": "markdown",
   "id": "bb420084",
   "metadata": {},
   "source": [
    "No columns have relational value of p more than 0.05, so ANOVA test is passed."
   ]
  },
  {
   "cell_type": "markdown",
   "id": "d35467b9",
   "metadata": {},
   "source": [
    " to handle Imbalanced Data we will use SMOTE"
   ]
  },
  {
   "cell_type": "code",
   "execution_count": 32,
   "id": "cb5220b8",
   "metadata": {},
   "outputs": [
    {
     "data": {
      "text/html": [
       "<div>\n",
       "<style scoped>\n",
       "    .dataframe tbody tr th:only-of-type {\n",
       "        vertical-align: middle;\n",
       "    }\n",
       "\n",
       "    .dataframe tbody tr th {\n",
       "        vertical-align: top;\n",
       "    }\n",
       "\n",
       "    .dataframe thead th {\n",
       "        text-align: right;\n",
       "    }\n",
       "</style>\n",
       "<table border=\"1\" class=\"dataframe\">\n",
       "  <thead>\n",
       "    <tr style=\"text-align: right;\">\n",
       "      <th></th>\n",
       "      <th>Survived</th>\n",
       "      <th>Age</th>\n",
       "      <th>SibSp</th>\n",
       "      <th>Parch</th>\n",
       "      <th>Fare</th>\n",
       "      <th>Q</th>\n",
       "      <th>S</th>\n",
       "      <th>male</th>\n",
       "      <th>1</th>\n",
       "      <th>3</th>\n",
       "    </tr>\n",
       "  </thead>\n",
       "  <tbody>\n",
       "    <tr>\n",
       "      <th>count</th>\n",
       "      <td>743.000000</td>\n",
       "      <td>743.000000</td>\n",
       "      <td>743.000000</td>\n",
       "      <td>743.000000</td>\n",
       "      <td>743.000000</td>\n",
       "      <td>743.0</td>\n",
       "      <td>743.000000</td>\n",
       "      <td>743.000000</td>\n",
       "      <td>743.000000</td>\n",
       "      <td>743.000000</td>\n",
       "    </tr>\n",
       "    <tr>\n",
       "      <th>mean</th>\n",
       "      <td>0.383580</td>\n",
       "      <td>29.084347</td>\n",
       "      <td>0.318715</td>\n",
       "      <td>0.215688</td>\n",
       "      <td>2.059005</td>\n",
       "      <td>0.0</td>\n",
       "      <td>0.791386</td>\n",
       "      <td>0.651413</td>\n",
       "      <td>0.265141</td>\n",
       "      <td>0.518170</td>\n",
       "    </tr>\n",
       "    <tr>\n",
       "      <th>std</th>\n",
       "      <td>0.486585</td>\n",
       "      <td>12.466401</td>\n",
       "      <td>0.488648</td>\n",
       "      <td>0.438068</td>\n",
       "      <td>0.553972</td>\n",
       "      <td>0.0</td>\n",
       "      <td>0.406591</td>\n",
       "      <td>0.476844</td>\n",
       "      <td>0.441706</td>\n",
       "      <td>0.500006</td>\n",
       "    </tr>\n",
       "    <tr>\n",
       "      <th>min</th>\n",
       "      <td>0.000000</td>\n",
       "      <td>0.420000</td>\n",
       "      <td>0.000000</td>\n",
       "      <td>0.000000</td>\n",
       "      <td>0.000000</td>\n",
       "      <td>0.0</td>\n",
       "      <td>0.000000</td>\n",
       "      <td>0.000000</td>\n",
       "      <td>0.000000</td>\n",
       "      <td>0.000000</td>\n",
       "    </tr>\n",
       "    <tr>\n",
       "      <th>25%</th>\n",
       "      <td>0.000000</td>\n",
       "      <td>21.500000</td>\n",
       "      <td>0.000000</td>\n",
       "      <td>0.000000</td>\n",
       "      <td>1.676290</td>\n",
       "      <td>0.0</td>\n",
       "      <td>1.000000</td>\n",
       "      <td>0.000000</td>\n",
       "      <td>0.000000</td>\n",
       "      <td>0.000000</td>\n",
       "    </tr>\n",
       "    <tr>\n",
       "      <th>50%</th>\n",
       "      <td>0.000000</td>\n",
       "      <td>26.000000</td>\n",
       "      <td>0.000000</td>\n",
       "      <td>0.000000</td>\n",
       "      <td>1.898829</td>\n",
       "      <td>0.0</td>\n",
       "      <td>1.000000</td>\n",
       "      <td>1.000000</td>\n",
       "      <td>0.000000</td>\n",
       "      <td>1.000000</td>\n",
       "    </tr>\n",
       "    <tr>\n",
       "      <th>75%</th>\n",
       "      <td>1.000000</td>\n",
       "      <td>36.000000</td>\n",
       "      <td>1.000000</td>\n",
       "      <td>0.000000</td>\n",
       "      <td>2.294571</td>\n",
       "      <td>0.0</td>\n",
       "      <td>1.000000</td>\n",
       "      <td>1.000000</td>\n",
       "      <td>1.000000</td>\n",
       "      <td>1.000000</td>\n",
       "    </tr>\n",
       "    <tr>\n",
       "      <th>max</th>\n",
       "      <td>1.000000</td>\n",
       "      <td>66.000000</td>\n",
       "      <td>1.442250</td>\n",
       "      <td>1.259921</td>\n",
       "      <td>3.583301</td>\n",
       "      <td>0.0</td>\n",
       "      <td>1.000000</td>\n",
       "      <td>1.000000</td>\n",
       "      <td>1.000000</td>\n",
       "      <td>1.000000</td>\n",
       "    </tr>\n",
       "  </tbody>\n",
       "</table>\n",
       "</div>"
      ],
      "text/plain": [
       "         Survived         Age       SibSp       Parch        Fare      Q  \\\n",
       "count  743.000000  743.000000  743.000000  743.000000  743.000000  743.0   \n",
       "mean     0.383580   29.084347    0.318715    0.215688    2.059005    0.0   \n",
       "std      0.486585   12.466401    0.488648    0.438068    0.553972    0.0   \n",
       "min      0.000000    0.420000    0.000000    0.000000    0.000000    0.0   \n",
       "25%      0.000000   21.500000    0.000000    0.000000    1.676290    0.0   \n",
       "50%      0.000000   26.000000    0.000000    0.000000    1.898829    0.0   \n",
       "75%      1.000000   36.000000    1.000000    0.000000    2.294571    0.0   \n",
       "max      1.000000   66.000000    1.442250    1.259921    3.583301    0.0   \n",
       "\n",
       "                S        male           1           3  \n",
       "count  743.000000  743.000000  743.000000  743.000000  \n",
       "mean     0.791386    0.651413    0.265141    0.518170  \n",
       "std      0.406591    0.476844    0.441706    0.500006  \n",
       "min      0.000000    0.000000    0.000000    0.000000  \n",
       "25%      1.000000    0.000000    0.000000    0.000000  \n",
       "50%      1.000000    1.000000    0.000000    1.000000  \n",
       "75%      1.000000    1.000000    1.000000    1.000000  \n",
       "max      1.000000    1.000000    1.000000    1.000000  "
      ]
     },
     "execution_count": 32,
     "metadata": {},
     "output_type": "execute_result"
    }
   ],
   "source": [
    "dfn.describe()"
   ]
  },
  {
   "cell_type": "code",
   "execution_count": 33,
   "id": "8d8a1a4a",
   "metadata": {},
   "outputs": [
    {
     "name": "stdout",
     "output_type": "stream",
     "text": [
      "0.0    458\n",
      "1.0    285\n",
      "Name: Survived, dtype: int64\n"
     ]
    },
    {
     "data": {
      "text/plain": [
       "<AxesSubplot:xlabel='Survived', ylabel='count'>"
      ]
     },
     "execution_count": 33,
     "metadata": {},
     "output_type": "execute_result"
    },
    {
     "data": {
      "image/png": "[encoded data removed]",
      "text/plain": [
       "<Figure size 640x480 with 1 Axes>"
      ]
     },
     "metadata": {},
     "output_type": "display_data"
    }
   ],
   "source": [
    "print(dfn[\"Survived\"].value_counts())\n",
    "sns.countplot(dfn[\"Survived\"])"
   ]
  },
  {
   "cell_type": "code",
   "execution_count": 34,
   "id": "58e2ed54",
   "metadata": {
    "scrolled": false
   },
   "outputs": [
    {
     "name": "stdout",
     "output_type": "stream",
     "text": [
      "0.0    458\n",
      "1.0    458\n",
      "Name: Survived, dtype: int64\n"
     ]
    },
    {
     "data": {
      "text/plain": [
       "<AxesSubplot:xlabel='Survived', ylabel='count'>"
      ]
     },
     "execution_count": 34,
     "metadata": {},
     "output_type": "execute_result"
    },
    {
     "data": {
      "image/png": "[encoded data removed]",
      "text/plain": [
       "<Figure size 640x480 with 1 Axes>"
      ]
     },
     "metadata": {},
     "output_type": "display_data"
    }
   ],
   "source": [
    "#Oversampling the data\n",
    "dfy=dfn[\"Survived\"]\n",
    "dfx=dfn.iloc[:,1:]\n",
    "smt=SMOTE()\n",
    "trainx, trainy=smt.fit_resample(dfx,dfy)\n",
    "print(trainy.value_counts())\n",
    "sns.countplot(trainy)"
   ]
  },
  {
   "cell_type": "code",
   "execution_count": 35,
   "id": "dbbd8415",
   "metadata": {
    "scrolled": true
   },
   "outputs": [
    {
     "data": {
      "text/html": [
       "<div>\n",
       "<style scoped>\n",
       "    .dataframe tbody tr th:only-of-type {\n",
       "        vertical-align: middle;\n",
       "    }\n",
       "\n",
       "    .dataframe tbody tr th {\n",
       "        vertical-align: top;\n",
       "    }\n",
       "\n",
       "    .dataframe thead th {\n",
       "        text-align: right;\n",
       "    }\n",
       "</style>\n",
       "<table border=\"1\" class=\"dataframe\">\n",
       "  <thead>\n",
       "    <tr style=\"text-align: right;\">\n",
       "      <th></th>\n",
       "      <th>Age</th>\n",
       "      <th>SibSp</th>\n",
       "      <th>Parch</th>\n",
       "      <th>Fare</th>\n",
       "      <th>Q</th>\n",
       "      <th>S</th>\n",
       "      <th>male</th>\n",
       "      <th>1</th>\n",
       "      <th>3</th>\n",
       "    </tr>\n",
       "  </thead>\n",
       "  <tbody>\n",
       "    <tr>\n",
       "      <th>0</th>\n",
       "      <td>22.0</td>\n",
       "      <td>1.0</td>\n",
       "      <td>0.0</td>\n",
       "      <td>1.640909</td>\n",
       "      <td>0.0</td>\n",
       "      <td>1.0</td>\n",
       "      <td>1.0</td>\n",
       "      <td>0.0</td>\n",
       "      <td>1.0</td>\n",
       "    </tr>\n",
       "    <tr>\n",
       "      <th>1</th>\n",
       "      <td>38.0</td>\n",
       "      <td>1.0</td>\n",
       "      <td>0.0</td>\n",
       "      <td>2.905674</td>\n",
       "      <td>0.0</td>\n",
       "      <td>0.0</td>\n",
       "      <td>0.0</td>\n",
       "      <td>1.0</td>\n",
       "      <td>0.0</td>\n",
       "    </tr>\n",
       "    <tr>\n",
       "      <th>2</th>\n",
       "      <td>26.0</td>\n",
       "      <td>0.0</td>\n",
       "      <td>0.0</td>\n",
       "      <td>1.677837</td>\n",
       "      <td>0.0</td>\n",
       "      <td>1.0</td>\n",
       "      <td>0.0</td>\n",
       "      <td>0.0</td>\n",
       "      <td>1.0</td>\n",
       "    </tr>\n",
       "    <tr>\n",
       "      <th>3</th>\n",
       "      <td>35.0</td>\n",
       "      <td>1.0</td>\n",
       "      <td>0.0</td>\n",
       "      <td>2.699440</td>\n",
       "      <td>0.0</td>\n",
       "      <td>1.0</td>\n",
       "      <td>0.0</td>\n",
       "      <td>1.0</td>\n",
       "      <td>0.0</td>\n",
       "    </tr>\n",
       "    <tr>\n",
       "      <th>4</th>\n",
       "      <td>35.0</td>\n",
       "      <td>0.0</td>\n",
       "      <td>0.0</td>\n",
       "      <td>1.684414</td>\n",
       "      <td>0.0</td>\n",
       "      <td>1.0</td>\n",
       "      <td>1.0</td>\n",
       "      <td>0.0</td>\n",
       "      <td>1.0</td>\n",
       "    </tr>\n",
       "    <tr>\n",
       "      <th>...</th>\n",
       "      <td>...</td>\n",
       "      <td>...</td>\n",
       "      <td>...</td>\n",
       "      <td>...</td>\n",
       "      <td>...</td>\n",
       "      <td>...</td>\n",
       "      <td>...</td>\n",
       "      <td>...</td>\n",
       "      <td>...</td>\n",
       "    </tr>\n",
       "    <tr>\n",
       "      <th>881</th>\n",
       "      <td>33.0</td>\n",
       "      <td>0.0</td>\n",
       "      <td>0.0</td>\n",
       "      <td>1.676290</td>\n",
       "      <td>0.0</td>\n",
       "      <td>1.0</td>\n",
       "      <td>1.0</td>\n",
       "      <td>0.0</td>\n",
       "      <td>0.0</td>\n",
       "    </tr>\n",
       "    <tr>\n",
       "      <th>882</th>\n",
       "      <td>22.0</td>\n",
       "      <td>0.0</td>\n",
       "      <td>0.0</td>\n",
       "      <td>1.800818</td>\n",
       "      <td>0.0</td>\n",
       "      <td>1.0</td>\n",
       "      <td>1.0</td>\n",
       "      <td>0.0</td>\n",
       "      <td>1.0</td>\n",
       "    </tr>\n",
       "    <tr>\n",
       "      <th>884</th>\n",
       "      <td>25.0</td>\n",
       "      <td>0.0</td>\n",
       "      <td>0.0</td>\n",
       "      <td>1.629473</td>\n",
       "      <td>0.0</td>\n",
       "      <td>1.0</td>\n",
       "      <td>1.0</td>\n",
       "      <td>0.0</td>\n",
       "      <td>0.0</td>\n",
       "    </tr>\n",
       "    <tr>\n",
       "      <th>886</th>\n",
       "      <td>27.0</td>\n",
       "      <td>0.0</td>\n",
       "      <td>0.0</td>\n",
       "      <td>1.898829</td>\n",
       "      <td>0.0</td>\n",
       "      <td>1.0</td>\n",
       "      <td>0.0</td>\n",
       "      <td>0.0</td>\n",
       "      <td>1.0</td>\n",
       "    </tr>\n",
       "    <tr>\n",
       "      <th>887</th>\n",
       "      <td>19.0</td>\n",
       "      <td>0.0</td>\n",
       "      <td>0.0</td>\n",
       "      <td>2.340347</td>\n",
       "      <td>0.0</td>\n",
       "      <td>0.0</td>\n",
       "      <td>1.0</td>\n",
       "      <td>1.0</td>\n",
       "      <td>0.0</td>\n",
       "    </tr>\n",
       "  </tbody>\n",
       "</table>\n",
       "<p>743 rows × 9 columns</p>\n",
       "</div>"
      ],
      "text/plain": [
       "      Age  SibSp  Parch      Fare    Q    S  male    1    3\n",
       "0    22.0    1.0    0.0  1.640909  0.0  1.0   1.0  0.0  1.0\n",
       "1    38.0    1.0    0.0  2.905674  0.0  0.0   0.0  1.0  0.0\n",
       "2    26.0    0.0    0.0  1.677837  0.0  1.0   0.0  0.0  1.0\n",
       "3    35.0    1.0    0.0  2.699440  0.0  1.0   0.0  1.0  0.0\n",
       "4    35.0    0.0    0.0  1.684414  0.0  1.0   1.0  0.0  1.0\n",
       "..    ...    ...    ...       ...  ...  ...   ...  ...  ...\n",
       "881  33.0    0.0    0.0  1.676290  0.0  1.0   1.0  0.0  0.0\n",
       "882  22.0    0.0    0.0  1.800818  0.0  1.0   1.0  0.0  1.0\n",
       "884  25.0    0.0    0.0  1.629473  0.0  1.0   1.0  0.0  0.0\n",
       "886  27.0    0.0    0.0  1.898829  0.0  1.0   0.0  0.0  1.0\n",
       "887  19.0    0.0    0.0  2.340347  0.0  0.0   1.0  1.0  0.0\n",
       "\n",
       "[743 rows x 9 columns]"
      ]
     },
     "execution_count": 35,
     "metadata": {},
     "output_type": "execute_result"
    }
   ],
   "source": [
    "dfx"
   ]
  },
  {
   "cell_type": "markdown",
   "id": "e3ffadf0",
   "metadata": {},
   "source": [
    "Scaling of Independent features"
   ]
  },
  {
   "cell_type": "code",
   "execution_count": 36,
   "id": "a39110f6",
   "metadata": {},
   "outputs": [],
   "source": [
    "st=StandardScaler()\n",
    "x=st.fit_transform(trainx)\n",
    "finalx=pd.DataFrame(data=x, columns=trainx.columns)"
   ]
  },
  {
   "cell_type": "code",
   "execution_count": 37,
   "id": "e33a6ff6",
   "metadata": {},
   "outputs": [
    {
     "data": {
      "text/html": [
       "<div>\n",
       "<style scoped>\n",
       "    .dataframe tbody tr th:only-of-type {\n",
       "        vertical-align: middle;\n",
       "    }\n",
       "\n",
       "    .dataframe tbody tr th {\n",
       "        vertical-align: top;\n",
       "    }\n",
       "\n",
       "    .dataframe thead th {\n",
       "        text-align: right;\n",
       "    }\n",
       "</style>\n",
       "<table border=\"1\" class=\"dataframe\">\n",
       "  <thead>\n",
       "    <tr style=\"text-align: right;\">\n",
       "      <th></th>\n",
       "      <th>Age</th>\n",
       "      <th>SibSp</th>\n",
       "      <th>Parch</th>\n",
       "      <th>Fare</th>\n",
       "      <th>Q</th>\n",
       "      <th>S</th>\n",
       "      <th>male</th>\n",
       "      <th>1</th>\n",
       "      <th>3</th>\n",
       "    </tr>\n",
       "  </thead>\n",
       "  <tbody>\n",
       "    <tr>\n",
       "      <th>0</th>\n",
       "      <td>-0.511724</td>\n",
       "      <td>1.396500</td>\n",
       "      <td>-0.534503</td>\n",
       "      <td>-0.835790</td>\n",
       "      <td>0.0</td>\n",
       "      <td>0.534917</td>\n",
       "      <td>0.748440</td>\n",
       "      <td>-0.633605</td>\n",
       "      <td>1.003878</td>\n",
       "    </tr>\n",
       "    <tr>\n",
       "      <th>1</th>\n",
       "      <td>0.746826</td>\n",
       "      <td>1.396500</td>\n",
       "      <td>-0.534503</td>\n",
       "      <td>1.482821</td>\n",
       "      <td>0.0</td>\n",
       "      <td>-1.937867</td>\n",
       "      <td>-1.404921</td>\n",
       "      <td>1.630040</td>\n",
       "      <td>-1.019177</td>\n",
       "    </tr>\n",
       "    <tr>\n",
       "      <th>2</th>\n",
       "      <td>-0.197086</td>\n",
       "      <td>-0.674635</td>\n",
       "      <td>-0.534503</td>\n",
       "      <td>-0.768092</td>\n",
       "      <td>0.0</td>\n",
       "      <td>0.534917</td>\n",
       "      <td>-1.404921</td>\n",
       "      <td>-0.633605</td>\n",
       "      <td>1.003878</td>\n",
       "    </tr>\n",
       "    <tr>\n",
       "      <th>3</th>\n",
       "      <td>0.510848</td>\n",
       "      <td>1.396500</td>\n",
       "      <td>-0.534503</td>\n",
       "      <td>1.104744</td>\n",
       "      <td>0.0</td>\n",
       "      <td>0.534917</td>\n",
       "      <td>-1.404921</td>\n",
       "      <td>1.630040</td>\n",
       "      <td>-1.019177</td>\n",
       "    </tr>\n",
       "    <tr>\n",
       "      <th>4</th>\n",
       "      <td>0.510848</td>\n",
       "      <td>-0.674635</td>\n",
       "      <td>-0.534503</td>\n",
       "      <td>-0.756034</td>\n",
       "      <td>0.0</td>\n",
       "      <td>0.534917</td>\n",
       "      <td>0.748440</td>\n",
       "      <td>-0.633605</td>\n",
       "      <td>1.003878</td>\n",
       "    </tr>\n",
       "    <tr>\n",
       "      <th>...</th>\n",
       "      <td>...</td>\n",
       "      <td>...</td>\n",
       "      <td>...</td>\n",
       "      <td>...</td>\n",
       "      <td>...</td>\n",
       "      <td>...</td>\n",
       "      <td>...</td>\n",
       "      <td>...</td>\n",
       "      <td>...</td>\n",
       "    </tr>\n",
       "    <tr>\n",
       "      <th>911</th>\n",
       "      <td>-0.275746</td>\n",
       "      <td>-0.674635</td>\n",
       "      <td>-0.534503</td>\n",
       "      <td>-0.784916</td>\n",
       "      <td>0.0</td>\n",
       "      <td>-1.637991</td>\n",
       "      <td>-1.143782</td>\n",
       "      <td>-0.633605</td>\n",
       "      <td>1.003878</td>\n",
       "    </tr>\n",
       "    <tr>\n",
       "      <th>912</th>\n",
       "      <td>-0.551053</td>\n",
       "      <td>-0.674635</td>\n",
       "      <td>-0.534503</td>\n",
       "      <td>-0.786779</td>\n",
       "      <td>0.0</td>\n",
       "      <td>-1.432254</td>\n",
       "      <td>0.748440</td>\n",
       "      <td>1.167190</td>\n",
       "      <td>-1.019177</td>\n",
       "    </tr>\n",
       "    <tr>\n",
       "      <th>913</th>\n",
       "      <td>-2.163569</td>\n",
       "      <td>-0.525090</td>\n",
       "      <td>2.203669</td>\n",
       "      <td>-0.214251</td>\n",
       "      <td>0.0</td>\n",
       "      <td>0.534917</td>\n",
       "      <td>0.748440</td>\n",
       "      <td>-0.633605</td>\n",
       "      <td>1.003878</td>\n",
       "    </tr>\n",
       "    <tr>\n",
       "      <th>914</th>\n",
       "      <td>0.589507</td>\n",
       "      <td>0.602519</td>\n",
       "      <td>2.245073</td>\n",
       "      <td>1.937578</td>\n",
       "      <td>0.0</td>\n",
       "      <td>0.534917</td>\n",
       "      <td>-0.077063</td>\n",
       "      <td>-0.633605</td>\n",
       "      <td>1.003878</td>\n",
       "    </tr>\n",
       "    <tr>\n",
       "      <th>915</th>\n",
       "      <td>-0.551053</td>\n",
       "      <td>-0.674635</td>\n",
       "      <td>-0.534503</td>\n",
       "      <td>-0.785775</td>\n",
       "      <td>0.0</td>\n",
       "      <td>-1.937867</td>\n",
       "      <td>-0.673716</td>\n",
       "      <td>1.630040</td>\n",
       "      <td>-1.019177</td>\n",
       "    </tr>\n",
       "  </tbody>\n",
       "</table>\n",
       "<p>916 rows × 9 columns</p>\n",
       "</div>"
      ],
      "text/plain": [
       "          Age     SibSp     Parch      Fare    Q         S      male  \\\n",
       "0   -0.511724  1.396500 -0.534503 -0.835790  0.0  0.534917  0.748440   \n",
       "1    0.746826  1.396500 -0.534503  1.482821  0.0 -1.937867 -1.404921   \n",
       "2   -0.197086 -0.674635 -0.534503 -0.768092  0.0  0.534917 -1.404921   \n",
       "3    0.510848  1.396500 -0.534503  1.104744  0.0  0.534917 -1.404921   \n",
       "4    0.510848 -0.674635 -0.534503 -0.756034  0.0  0.534917  0.748440   \n",
       "..        ...       ...       ...       ...  ...       ...       ...   \n",
       "911 -0.275746 -0.674635 -0.534503 -0.784916  0.0 -1.637991 -1.143782   \n",
       "912 -0.551053 -0.674635 -0.534503 -0.786779  0.0 -1.432254  0.748440   \n",
       "913 -2.163569 -0.525090  2.203669 -0.214251  0.0  0.534917  0.748440   \n",
       "914  0.589507  0.602519  2.245073  1.937578  0.0  0.534917 -0.077063   \n",
       "915 -0.551053 -0.674635 -0.534503 -0.785775  0.0 -1.937867 -0.673716   \n",
       "\n",
       "            1         3  \n",
       "0   -0.633605  1.003878  \n",
       "1    1.630040 -1.019177  \n",
       "2   -0.633605  1.003878  \n",
       "3    1.630040 -1.019177  \n",
       "4   -0.633605  1.003878  \n",
       "..        ...       ...  \n",
       "911 -0.633605  1.003878  \n",
       "912  1.167190 -1.019177  \n",
       "913 -0.633605  1.003878  \n",
       "914 -0.633605  1.003878  \n",
       "915  1.630040 -1.019177  \n",
       "\n",
       "[916 rows x 9 columns]"
      ]
     },
     "execution_count": 37,
     "metadata": {},
     "output_type": "execute_result"
    }
   ],
   "source": [
    "finalx"
   ]
  },
  {
   "cell_type": "markdown",
   "id": "c063018c",
   "metadata": {},
   "source": [
    "Now we check the accuracy of our databy training with 80% of our data and testing on rest 20%"
   ]
  },
  {
   "cell_type": "code",
   "execution_count": 38,
   "id": "b0501ca2",
   "metadata": {},
   "outputs": [],
   "source": [
    "# Split 80-20 train vs test data\n",
    "train_x,test_x,train_y,test_y=train_test_split(finalx,trainy,test_size=0.2,random_state=15)"
   ]
  },
  {
   "cell_type": "code",
   "execution_count": 39,
   "id": "6407f717",
   "metadata": {},
   "outputs": [
    {
     "name": "stdout",
     "output_type": "stream",
     "text": [
      "(732, 9) (732,)\n",
      "(184, 9) (184,)\n"
     ]
    }
   ],
   "source": [
    "print (train_x.shape, train_y.shape)\n",
    "print (test_x.shape, test_y.shape)"
   ]
  },
  {
   "cell_type": "markdown",
   "id": "7e59dc1f",
   "metadata": {},
   "source": [
    "Training and testing of data in various models."
   ]
  },
  {
   "cell_type": "code",
   "execution_count": 40,
   "id": "dad17b55",
   "metadata": {},
   "outputs": [],
   "source": [
    "lg=LogisticRegression()\n",
    "gnb=GaussianNB()\n",
    "svc=SVC()\n",
    "dtc=DecisionTreeClassifier()\n",
    "knn=KNeighborsClassifier()"
   ]
  },
  {
   "cell_type": "code",
   "execution_count": 41,
   "id": "b42abd11",
   "metadata": {},
   "outputs": [
    {
     "name": "stdout",
     "output_type": "stream",
     "text": [
      "accuracy score for  LogisticRegression() is :  0.75 \n",
      " [[76 15]\n",
      " [31 62]] \n",
      "               precision    recall  f1-score   support\n",
      "\n",
      "         0.0       0.71      0.84      0.77        91\n",
      "         1.0       0.81      0.67      0.73        93\n",
      "\n",
      "    accuracy                           0.75       184\n",
      "   macro avg       0.76      0.75      0.75       184\n",
      "weighted avg       0.76      0.75      0.75       184\n",
      " \n",
      "\n",
      "Cross Validation Score is : [0.62585034 0.75510204 0.63013699 0.67123288 0.73972603]\n",
      "Mean Score : 0.6844096542726679\n",
      "==============================================\n",
      "\n",
      "\n",
      "====================================================\n",
      "accuracy score for  GaussianNB() is :  0.717391304347826 \n",
      " [[73 18]\n",
      " [34 59]] \n",
      "               precision    recall  f1-score   support\n",
      "\n",
      "         0.0       0.68      0.80      0.74        91\n",
      "         1.0       0.77      0.63      0.69        93\n",
      "\n",
      "    accuracy                           0.72       184\n",
      "   macro avg       0.72      0.72      0.72       184\n",
      "weighted avg       0.72      0.72      0.72       184\n",
      " \n",
      "\n",
      "Cross Validation Score is : [0.63265306 0.70068027 0.59589041 0.67123288 0.69863014]\n",
      "Mean Score : 0.6598173515981736\n",
      "==============================================\n",
      "\n",
      "\n",
      "====================================================\n",
      "accuracy score for  SVC() is :  0.7717391304347826 \n",
      " [[72 19]\n",
      " [23 70]] \n",
      "               precision    recall  f1-score   support\n",
      "\n",
      "         0.0       0.76      0.79      0.77        91\n",
      "         1.0       0.79      0.75      0.77        93\n",
      "\n",
      "    accuracy                           0.77       184\n",
      "   macro avg       0.77      0.77      0.77       184\n",
      "weighted avg       0.77      0.77      0.77       184\n",
      " \n",
      "\n",
      "Cross Validation Score is : [0.6462585  0.72789116 0.63013699 0.65753425 0.73287671]\n",
      "Mean Score : 0.678939521013885\n",
      "==============================================\n",
      "\n",
      "\n",
      "====================================================\n",
      "accuracy score for  DecisionTreeClassifier() is :  0.7336956521739131 \n",
      " [[63 28]\n",
      " [21 72]] \n",
      "               precision    recall  f1-score   support\n",
      "\n",
      "         0.0       0.75      0.69      0.72        91\n",
      "         1.0       0.72      0.77      0.75        93\n",
      "\n",
      "    accuracy                           0.73       184\n",
      "   macro avg       0.73      0.73      0.73       184\n",
      "weighted avg       0.73      0.73      0.73       184\n",
      " \n",
      "\n",
      "Cross Validation Score is : [0.67346939 0.72108844 0.73972603 0.67808219 0.70547945]\n",
      "Mean Score : 0.7035690988724256\n",
      "==============================================\n",
      "\n",
      "\n",
      "====================================================\n",
      "accuracy score for  KNeighborsClassifier() is :  0.717391304347826 \n",
      " [[63 28]\n",
      " [24 69]] \n",
      "               precision    recall  f1-score   support\n",
      "\n",
      "         0.0       0.72      0.69      0.71        91\n",
      "         1.0       0.71      0.74      0.73        93\n",
      "\n",
      "    accuracy                           0.72       184\n",
      "   macro avg       0.72      0.72      0.72       184\n",
      "weighted avg       0.72      0.72      0.72       184\n",
      " \n",
      "\n",
      "Cross Validation Score is : [0.6462585  0.67346939 0.69178082 0.6369863  0.66438356]\n",
      "Mean Score : 0.662575715217594\n",
      "==============================================\n",
      "\n",
      "\n",
      "====================================================\n"
     ]
    },
    {
     "data": {
      "image/png": "[encoded data removed]",
      "text/plain": [
       "<Figure size 640x480 with 6 Axes>"
      ]
     },
     "metadata": {},
     "output_type": "display_data"
    }
   ],
   "source": [
    "model=[lg,gnb,svc,dtc,knn]\n",
    "for m in model:\n",
    "    m.fit(train_x,train_y)\n",
    "    m.score(train_x,train_y)\n",
    "    predm=m.predict(test_x)\n",
    "    print(\"accuracy score for \",m,\"is : \",accuracy_score(test_y,predm),\"\\n\",confusion_matrix(test_y,predm),\"\\n\",classification_report(test_y,predm),\"\\n\")\n",
    "    sns.heatmap(confusion_matrix(test_y,predm),annot=True)\n",
    "    score=cross_val_score(m,train_x,train_y,cv=5)\n",
    "    print(\"Cross Validation Score is :\",score)\n",
    "    print(\"Mean Score :\",score.mean())\n",
    "    print(\"==============================================\\n\\n\\n====================================================\")"
   ]
  },
  {
   "cell_type": "markdown",
   "id": "0208a4ce",
   "metadata": {},
   "source": [
    "Best accuracy and CV score is given by SVC model. So we will proceed with that."
   ]
  },
  {
   "cell_type": "code",
   "execution_count": 42,
   "id": "6fc23b9b",
   "metadata": {},
   "outputs": [
    {
     "data": {
      "text/plain": [
       "{'kernel': 'rbf'}"
      ]
     },
     "execution_count": 42,
     "metadata": {},
     "output_type": "execute_result"
    }
   ],
   "source": [
    "from sklearn.model_selection import GridSearchCV\n",
    "dict1={\"kernel\":[\"poly\",\"rbf\",\"linear\"]}\n",
    "gv=GridSearchCV(estimator=svc,param_grid=dict1,cv=5, refit=True)\n",
    "gv.fit(train_x,train_y)\n",
    "gv.best_params_"
   ]
  },
  {
   "cell_type": "markdown",
   "id": "29ec315a",
   "metadata": {},
   "source": [
    "so we will use rbf as kernel"
   ]
  },
  {
   "cell_type": "code",
   "execution_count": 43,
   "id": "f83c56ab",
   "metadata": {},
   "outputs": [
    {
     "data": {
      "text/plain": [
       "0.7717391304347826"
      ]
     },
     "execution_count": 43,
     "metadata": {},
     "output_type": "execute_result"
    }
   ],
   "source": [
    "sv=SVC(kernel=\"rbf\")\n",
    "sv.fit(train_x,train_y)\n",
    "pred1=sv.predict(test_x)\n",
    "accuracy_score(test_y,pred1)"
   ]
  },
  {
   "cell_type": "code",
   "execution_count": 44,
   "id": "477de5e0",
   "metadata": {},
   "outputs": [
    {
     "data": {
      "text/plain": [
       "{'random_state': 23}"
      ]
     },
     "execution_count": 44,
     "metadata": {},
     "output_type": "execute_result"
    }
   ],
   "source": [
    "from sklearn.ensemble import RandomForestClassifier\n",
    "rf=RandomForestClassifier()\n",
    "ran=[]\n",
    "for i in range(50):\n",
    "    ran.append(i)\n",
    "    \n",
    "dict2={\"random_state\":ran}\n",
    "gv=GridSearchCV(rf,dict2, refit=True)\n",
    "gv.fit(train_x,train_y)\n",
    "gv.best_params_\n",
    "\n"
   ]
  },
  {
   "cell_type": "markdown",
   "id": "6f823416",
   "metadata": {},
   "source": [
    "As the best parameter for random state is 15, we will try random forest classifier with this parameter"
   ]
  },
  {
   "cell_type": "code",
   "execution_count": 45,
   "id": "50b38031",
   "metadata": {},
   "outputs": [
    {
     "data": {
      "text/plain": [
       "0.8315217391304348"
      ]
     },
     "execution_count": 45,
     "metadata": {},
     "output_type": "execute_result"
    }
   ],
   "source": [
    "rf1=RandomForestClassifier(random_state=15)\n",
    "rf1.fit(train_x,train_y)\n",
    "prf=rf1.predict(test_x)\n",
    "accuracy_score(test_y,prf)"
   ]
  },
  {
   "cell_type": "code",
   "execution_count": 46,
   "id": "cdb97c87",
   "metadata": {},
   "outputs": [
    {
     "name": "stdout",
     "output_type": "stream",
     "text": [
      "Cross Validation Score is : 0.7281241263628739\n"
     ]
    }
   ],
   "source": [
    "score=cross_val_score(rf1,train_x,train_y,cv=5)\n",
    "print(\"Cross Validation Score is :\",score.mean())"
   ]
  },
  {
   "cell_type": "markdown",
   "id": "00236b93",
   "metadata": {},
   "source": [
    "This is the best result so we will save this model"
   ]
  },
  {
   "cell_type": "code",
   "execution_count": 47,
   "id": "1203085c",
   "metadata": {},
   "outputs": [],
   "source": [
    "import joblib"
   ]
  },
  {
   "cell_type": "code",
   "execution_count": 48,
   "id": "d05de07d",
   "metadata": {},
   "outputs": [
    {
     "data": {
      "text/plain": [
       "['titrfc.obj']"
      ]
     },
     "execution_count": 48,
     "metadata": {},
     "output_type": "execute_result"
    }
   ],
   "source": [
    "joblib.dump(rf1,\"titrfc.obj\")"
   ]
  },
  {
   "cell_type": "code",
   "execution_count": 49,
   "id": "94f3c360",
   "metadata": {},
   "outputs": [],
   "source": [
    "def predict(inplist):\n",
    "    inp=np.array(inplist)\n",
    "    i=inp.reshape(1,-1)\n",
    "    res=rf1.predict(i)\n",
    "    print(res)\n",
    "    if res==0:\n",
    "        print(\"The passenger Dies\")\n",
    "    else:\n",
    "        print(\"The Passenger Lives\")"
   ]
  },
  {
   "cell_type": "code",
   "execution_count": 50,
   "id": "0d81901d",
   "metadata": {},
   "outputs": [
    {
     "name": "stdout",
     "output_type": "stream",
     "text": [
      "enter the value for Age :  26\n",
      "enter the value for SibSp :  0\n",
      "enter the value for Parch :  0\n",
      "enter the value for Fare :  3101282\n",
      "enter the value for Embarked :  S\n",
      "enter the value for Sex as M or F:  F\n",
      "enter the value for Passenger Class as 1,2,3 :  3\n",
      "[1.]\n",
      "The Passenger Lives\n"
     ]
    }
   ],
   "source": [
    "#to enter values one by one, run this\n",
    "inplist=[]\n",
    "\n",
    "vari=[\"Age\",\"SibSp\",\"Parch\",\"Fare\",\"Embarked\",\"Sex\",\"Passenger Class\"]\n",
    "for v in vari:\n",
    "    \n",
    "    if v==\"Embarked\":\n",
    "            n=(input(f\"enter the value for {v} :  \"))\n",
    "            if n==\"C\":\n",
    "                inplist.append(0)\n",
    "                inplist.append(0)\n",
    "            if n==\"Q\":\n",
    "                inplist.append(1)\n",
    "                inplist.append(0)\n",
    "            else:\n",
    "                inplist.append(0)\n",
    "                inplist.append(1)\n",
    "            continue\n",
    "    if v==\"Sex\":\n",
    "        n=(input(f\"enter the value for {v} as M or F:  \"))\n",
    "        if n==\"M\":\n",
    "            inplist.append(1)\n",
    "        if n==\"F\":\n",
    "            inplist.append(0)\n",
    "        continue\n",
    "    if v==\"Passenger Class\":\n",
    "        n=(input(f\"enter the value for {v} as 1,2,3 :  \"))\n",
    "        if n==\"1\":\n",
    "            inplist.append(1)\n",
    "            inplist.append(0)\n",
    "        if n==\"2\":\n",
    "            inplist.append(0)\n",
    "            inplist.append(0)\n",
    "        else:\n",
    "            inplist.append(0)\n",
    "            inplist.append(1)\n",
    "        continue\n",
    "    else:\n",
    "        n=float(input(f\"enter the value for {v} :  \"))\n",
    "        inplist.append(n)\n",
    "    \n",
    "    \n",
    "    \n",
    "predict(inplist)"
   ]
  }
 ],
 "metadata": {
  "kernelspec": {
   "display_name": "Python 3 (ipykernel)",
   "language": "python",
   "name": "python3"
  },
  "language_info": {
   "codemirror_mode": {
    "name": "ipython",
    "version": 3
   },
   "file_extension": ".py",
   "mimetype": "text/x-python",
   "name": "python",
   "nbconvert_exporter": "python",
   "pygments_lexer": "ipython3",
   "version": "3.9.13"
  }
 },
 "nbformat": 4,
 "nbformat_minor": 5
}
